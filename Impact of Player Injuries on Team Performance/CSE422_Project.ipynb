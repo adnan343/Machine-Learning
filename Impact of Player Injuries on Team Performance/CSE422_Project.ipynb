{
 "cells": [
  {
   "metadata": {},
   "cell_type": "markdown",
   "source": "## Importing libraries \n",
   "id": "c36b6631509be436"
  },
  {
   "cell_type": "code",
   "id": "initial_id",
   "metadata": {
    "collapsed": true,
    "ExecuteTime": {
     "end_time": "2025-01-04T16:02:18.224142Z",
     "start_time": "2025-01-04T16:02:18.218481Z"
    }
   },
   "source": [
    "import pandas as pd\n",
    "import numpy as np\n",
    "import seaborn as sns\n",
    "import matplotlib.pyplot as plt\n",
    "from keras.src.metrics.accuracy_metrics import accuracy\n",
    "from sklearn.metrics import classification_report, confusion_matrix, accuracy_score\n",
    "from sklearn.preprocessing import label_binarize\n",
    "import tensorflow as tf\n",
    "from tensorflow.keras.models import Sequential\n",
    "from tensorflow.keras.layers import Dense, Input"
   ],
   "outputs": [],
   "execution_count": 44
  },
  {
   "metadata": {},
   "cell_type": "markdown",
   "source": "## Dataset description",
   "id": "9ec12388a6b0347e"
  },
  {
   "metadata": {
    "ExecuteTime": {
     "end_time": "2025-01-04T16:02:18.278555Z",
     "start_time": "2025-01-04T16:02:18.265351Z"
    }
   },
   "cell_type": "code",
   "source": [
    "data = pd.read_csv('dataset/player_injuries_impact.csv', na_values=['N.A.'])\n",
    "data.head()"
   ],
   "id": "d9cbf94ca69b2a73",
   "outputs": [
    {
     "data": {
      "text/plain": [
       "               Name  Team Name     Position  Age   Season  FIFA rating  \\\n",
       "0  Jamaal Lascelles  Newcastle  Center Back   26  2019/20           77   \n",
       "1      Fabian Schär  Newcastle  Center Back   28  2019/20           79   \n",
       "2      Fabian Schär  Newcastle  Center Back   28  2019/20           79   \n",
       "3      Fabian Schär  Newcastle  Center Back   28  2019/20           79   \n",
       "4      Paul Dummett  Newcastle  Center Back   28  2019/20           75   \n",
       "\n",
       "             Injury Date of Injury Date of return Match1_before_injury_Result  \\\n",
       "0       Knee injury    Nov 9, 2019   Jan 13, 2020                        draw   \n",
       "1       Knee injury   Oct 20, 2019   Nov 24, 2019                        lose   \n",
       "2  Hamstring strain    Jan 2, 2020   Jan 17, 2020                        lose   \n",
       "3   Shoulder injury   Jul 16, 2020   Sep 28, 2020                        lose   \n",
       "4      Groin injury   Dec 22, 2019   Jan 10, 2020                         win   \n",
       "\n",
       "   ... Match1_after_injury_GD  Match1_after_injury_Player_rating  \\\n",
       "0  ...                    1.0                                7.1   \n",
       "1  ...                    NaN                                NaN   \n",
       "2  ...                    0.0                               6(S)   \n",
       "3  ...                    NaN                                NaN   \n",
       "4  ...                    NaN                                NaN   \n",
       "\n",
       "  Match2_after_injury_Result Match2_after_injury_Opposition  \\\n",
       "0                       draw                        Everton   \n",
       "1                        NaN                            NaN   \n",
       "2                       lose                        Arsenal   \n",
       "3                        NaN                            NaN   \n",
       "4                        NaN                            NaN   \n",
       "\n",
       "  Match2_after_injury_GD  Match2_after_injury_Player_rating  \\\n",
       "0                    0.0                                6.2   \n",
       "1                    NaN                                NaN   \n",
       "2                   -4.0                                NaN   \n",
       "3                    NaN                                NaN   \n",
       "4                    NaN                                NaN   \n",
       "\n",
       "  Match3_after_injury_Result Match3_after_injury_Opposition  \\\n",
       "0                       draw                   Norwich City   \n",
       "1                        NaN                            NaN   \n",
       "2                       lose                 Crystal Palace   \n",
       "3                        NaN                            NaN   \n",
       "4                        NaN                            NaN   \n",
       "\n",
       "  Match3_after_injury_GD  Match3_after_injury_Player_rating  \n",
       "0                    0.0                                6.7  \n",
       "1                    NaN                                NaN  \n",
       "2                   -1.0                                6.5  \n",
       "3                    NaN                                NaN  \n",
       "4                    NaN                                NaN  \n",
       "\n",
       "[5 rows x 42 columns]"
      ],
      "text/html": [
       "<div>\n",
       "<style scoped>\n",
       "    .dataframe tbody tr th:only-of-type {\n",
       "        vertical-align: middle;\n",
       "    }\n",
       "\n",
       "    .dataframe tbody tr th {\n",
       "        vertical-align: top;\n",
       "    }\n",
       "\n",
       "    .dataframe thead th {\n",
       "        text-align: right;\n",
       "    }\n",
       "</style>\n",
       "<table border=\"1\" class=\"dataframe\">\n",
       "  <thead>\n",
       "    <tr style=\"text-align: right;\">\n",
       "      <th></th>\n",
       "      <th>Name</th>\n",
       "      <th>Team Name</th>\n",
       "      <th>Position</th>\n",
       "      <th>Age</th>\n",
       "      <th>Season</th>\n",
       "      <th>FIFA rating</th>\n",
       "      <th>Injury</th>\n",
       "      <th>Date of Injury</th>\n",
       "      <th>Date of return</th>\n",
       "      <th>Match1_before_injury_Result</th>\n",
       "      <th>...</th>\n",
       "      <th>Match1_after_injury_GD</th>\n",
       "      <th>Match1_after_injury_Player_rating</th>\n",
       "      <th>Match2_after_injury_Result</th>\n",
       "      <th>Match2_after_injury_Opposition</th>\n",
       "      <th>Match2_after_injury_GD</th>\n",
       "      <th>Match2_after_injury_Player_rating</th>\n",
       "      <th>Match3_after_injury_Result</th>\n",
       "      <th>Match3_after_injury_Opposition</th>\n",
       "      <th>Match3_after_injury_GD</th>\n",
       "      <th>Match3_after_injury_Player_rating</th>\n",
       "    </tr>\n",
       "  </thead>\n",
       "  <tbody>\n",
       "    <tr>\n",
       "      <th>0</th>\n",
       "      <td>Jamaal Lascelles</td>\n",
       "      <td>Newcastle</td>\n",
       "      <td>Center Back</td>\n",
       "      <td>26</td>\n",
       "      <td>2019/20</td>\n",
       "      <td>77</td>\n",
       "      <td>Knee injury</td>\n",
       "      <td>Nov 9, 2019</td>\n",
       "      <td>Jan 13, 2020</td>\n",
       "      <td>draw</td>\n",
       "      <td>...</td>\n",
       "      <td>1.0</td>\n",
       "      <td>7.1</td>\n",
       "      <td>draw</td>\n",
       "      <td>Everton</td>\n",
       "      <td>0.0</td>\n",
       "      <td>6.2</td>\n",
       "      <td>draw</td>\n",
       "      <td>Norwich City</td>\n",
       "      <td>0.0</td>\n",
       "      <td>6.7</td>\n",
       "    </tr>\n",
       "    <tr>\n",
       "      <th>1</th>\n",
       "      <td>Fabian Schär</td>\n",
       "      <td>Newcastle</td>\n",
       "      <td>Center Back</td>\n",
       "      <td>28</td>\n",
       "      <td>2019/20</td>\n",
       "      <td>79</td>\n",
       "      <td>Knee injury</td>\n",
       "      <td>Oct 20, 2019</td>\n",
       "      <td>Nov 24, 2019</td>\n",
       "      <td>lose</td>\n",
       "      <td>...</td>\n",
       "      <td>NaN</td>\n",
       "      <td>NaN</td>\n",
       "      <td>NaN</td>\n",
       "      <td>NaN</td>\n",
       "      <td>NaN</td>\n",
       "      <td>NaN</td>\n",
       "      <td>NaN</td>\n",
       "      <td>NaN</td>\n",
       "      <td>NaN</td>\n",
       "      <td>NaN</td>\n",
       "    </tr>\n",
       "    <tr>\n",
       "      <th>2</th>\n",
       "      <td>Fabian Schär</td>\n",
       "      <td>Newcastle</td>\n",
       "      <td>Center Back</td>\n",
       "      <td>28</td>\n",
       "      <td>2019/20</td>\n",
       "      <td>79</td>\n",
       "      <td>Hamstring strain</td>\n",
       "      <td>Jan 2, 2020</td>\n",
       "      <td>Jan 17, 2020</td>\n",
       "      <td>lose</td>\n",
       "      <td>...</td>\n",
       "      <td>0.0</td>\n",
       "      <td>6(S)</td>\n",
       "      <td>lose</td>\n",
       "      <td>Arsenal</td>\n",
       "      <td>-4.0</td>\n",
       "      <td>NaN</td>\n",
       "      <td>lose</td>\n",
       "      <td>Crystal Palace</td>\n",
       "      <td>-1.0</td>\n",
       "      <td>6.5</td>\n",
       "    </tr>\n",
       "    <tr>\n",
       "      <th>3</th>\n",
       "      <td>Fabian Schär</td>\n",
       "      <td>Newcastle</td>\n",
       "      <td>Center Back</td>\n",
       "      <td>28</td>\n",
       "      <td>2019/20</td>\n",
       "      <td>79</td>\n",
       "      <td>Shoulder injury</td>\n",
       "      <td>Jul 16, 2020</td>\n",
       "      <td>Sep 28, 2020</td>\n",
       "      <td>lose</td>\n",
       "      <td>...</td>\n",
       "      <td>NaN</td>\n",
       "      <td>NaN</td>\n",
       "      <td>NaN</td>\n",
       "      <td>NaN</td>\n",
       "      <td>NaN</td>\n",
       "      <td>NaN</td>\n",
       "      <td>NaN</td>\n",
       "      <td>NaN</td>\n",
       "      <td>NaN</td>\n",
       "      <td>NaN</td>\n",
       "    </tr>\n",
       "    <tr>\n",
       "      <th>4</th>\n",
       "      <td>Paul Dummett</td>\n",
       "      <td>Newcastle</td>\n",
       "      <td>Center Back</td>\n",
       "      <td>28</td>\n",
       "      <td>2019/20</td>\n",
       "      <td>75</td>\n",
       "      <td>Groin injury</td>\n",
       "      <td>Dec 22, 2019</td>\n",
       "      <td>Jan 10, 2020</td>\n",
       "      <td>win</td>\n",
       "      <td>...</td>\n",
       "      <td>NaN</td>\n",
       "      <td>NaN</td>\n",
       "      <td>NaN</td>\n",
       "      <td>NaN</td>\n",
       "      <td>NaN</td>\n",
       "      <td>NaN</td>\n",
       "      <td>NaN</td>\n",
       "      <td>NaN</td>\n",
       "      <td>NaN</td>\n",
       "      <td>NaN</td>\n",
       "    </tr>\n",
       "  </tbody>\n",
       "</table>\n",
       "<p>5 rows × 42 columns</p>\n",
       "</div>"
      ]
     },
     "execution_count": 45,
     "metadata": {},
     "output_type": "execute_result"
    }
   ],
   "execution_count": 45
  },
  {
   "metadata": {
    "ExecuteTime": {
     "end_time": "2025-01-04T16:02:18.336369Z",
     "start_time": "2025-01-04T16:02:18.327252Z"
    }
   },
   "cell_type": "code",
   "source": "data.tail()",
   "id": "d72ab1394052e30f",
   "outputs": [
    {
     "data": {
      "text/plain": [
       "              Name Team Name              Position  Age   Season  FIFA rating  \\\n",
       "651   James Garner   Everton  Defensive Midfielder   21  2022/23           72   \n",
       "652  Dwight McNeil   Everton           Left winger   23  2023/24           76   \n",
       "653   Ashley Young   Everton             Left Back   38  2023/24           75   \n",
       "654  Jack Harrison   Everton          Right winger   26  2023/24           76   \n",
       "655           Beto   Everton        Center Forward   25  2023/24           81   \n",
       "\n",
       "            Injury Date of Injury Date of return Match1_before_injury_Result  \\\n",
       "651    back injury   Nov 12, 2022    Feb 9, 2023                        lose   \n",
       "652   ankle injury  July 29, 2023    Sep 1, 2023                         NaN   \n",
       "653  muscle injury   Dec 11, 2023   Jan 25, 2024                         win   \n",
       "654     hip injury    Jul 1, 2023   Sep 21, 2023                         NaN   \n",
       "655    knee injury   Nov 23, 2023   Nov 28, 2023                         win   \n",
       "\n",
       "     ... Match1_after_injury_GD  Match1_after_injury_Player_rating  \\\n",
       "651  ...                    NaN                                NaN   \n",
       "652  ...                    0.0                               6(S)   \n",
       "653  ...                    0.0                                5.6   \n",
       "654  ...                   -1.0                             6.5(S)   \n",
       "655  ...                    1.0                                5.7   \n",
       "\n",
       "    Match2_after_injury_Result Match2_after_injury_Opposition  \\\n",
       "651                        NaN                            NaN   \n",
       "652                       lose                        Arsenal   \n",
       "653                       draw                      Tottenham   \n",
       "654                        win                    Bournemouth   \n",
       "655                        win                        Chelsea   \n",
       "\n",
       "    Match2_after_injury_GD  Match2_after_injury_Player_rating  \\\n",
       "651                    NaN                                NaN   \n",
       "652                   -1.0                                5.4   \n",
       "653                    0.0                                6.3   \n",
       "654                    3.0                                8.5   \n",
       "655                    2.0                                5.8   \n",
       "\n",
       "    Match3_after_injury_Result Match3_after_injury_Opposition  \\\n",
       "651                        NaN                            NaN   \n",
       "652                        win                      Brentford   \n",
       "653                       lose                       Man City   \n",
       "654                       lose                      Liverpool   \n",
       "655                       lose                      Tottenham   \n",
       "\n",
       "    Match3_after_injury_GD  Match3_after_injury_Player_rating  \n",
       "651                    NaN                                NaN  \n",
       "652                    2.0                                7.6  \n",
       "653                   -2.0                                5.2  \n",
       "654                   -2.0                                5.4  \n",
       "655                   -1.0                               6(S)  \n",
       "\n",
       "[5 rows x 42 columns]"
      ],
      "text/html": [
       "<div>\n",
       "<style scoped>\n",
       "    .dataframe tbody tr th:only-of-type {\n",
       "        vertical-align: middle;\n",
       "    }\n",
       "\n",
       "    .dataframe tbody tr th {\n",
       "        vertical-align: top;\n",
       "    }\n",
       "\n",
       "    .dataframe thead th {\n",
       "        text-align: right;\n",
       "    }\n",
       "</style>\n",
       "<table border=\"1\" class=\"dataframe\">\n",
       "  <thead>\n",
       "    <tr style=\"text-align: right;\">\n",
       "      <th></th>\n",
       "      <th>Name</th>\n",
       "      <th>Team Name</th>\n",
       "      <th>Position</th>\n",
       "      <th>Age</th>\n",
       "      <th>Season</th>\n",
       "      <th>FIFA rating</th>\n",
       "      <th>Injury</th>\n",
       "      <th>Date of Injury</th>\n",
       "      <th>Date of return</th>\n",
       "      <th>Match1_before_injury_Result</th>\n",
       "      <th>...</th>\n",
       "      <th>Match1_after_injury_GD</th>\n",
       "      <th>Match1_after_injury_Player_rating</th>\n",
       "      <th>Match2_after_injury_Result</th>\n",
       "      <th>Match2_after_injury_Opposition</th>\n",
       "      <th>Match2_after_injury_GD</th>\n",
       "      <th>Match2_after_injury_Player_rating</th>\n",
       "      <th>Match3_after_injury_Result</th>\n",
       "      <th>Match3_after_injury_Opposition</th>\n",
       "      <th>Match3_after_injury_GD</th>\n",
       "      <th>Match3_after_injury_Player_rating</th>\n",
       "    </tr>\n",
       "  </thead>\n",
       "  <tbody>\n",
       "    <tr>\n",
       "      <th>651</th>\n",
       "      <td>James Garner</td>\n",
       "      <td>Everton</td>\n",
       "      <td>Defensive Midfielder</td>\n",
       "      <td>21</td>\n",
       "      <td>2022/23</td>\n",
       "      <td>72</td>\n",
       "      <td>back injury</td>\n",
       "      <td>Nov 12, 2022</td>\n",
       "      <td>Feb 9, 2023</td>\n",
       "      <td>lose</td>\n",
       "      <td>...</td>\n",
       "      <td>NaN</td>\n",
       "      <td>NaN</td>\n",
       "      <td>NaN</td>\n",
       "      <td>NaN</td>\n",
       "      <td>NaN</td>\n",
       "      <td>NaN</td>\n",
       "      <td>NaN</td>\n",
       "      <td>NaN</td>\n",
       "      <td>NaN</td>\n",
       "      <td>NaN</td>\n",
       "    </tr>\n",
       "    <tr>\n",
       "      <th>652</th>\n",
       "      <td>Dwight McNeil</td>\n",
       "      <td>Everton</td>\n",
       "      <td>Left winger</td>\n",
       "      <td>23</td>\n",
       "      <td>2023/24</td>\n",
       "      <td>76</td>\n",
       "      <td>ankle injury</td>\n",
       "      <td>July 29, 2023</td>\n",
       "      <td>Sep 1, 2023</td>\n",
       "      <td>NaN</td>\n",
       "      <td>...</td>\n",
       "      <td>0.0</td>\n",
       "      <td>6(S)</td>\n",
       "      <td>lose</td>\n",
       "      <td>Arsenal</td>\n",
       "      <td>-1.0</td>\n",
       "      <td>5.4</td>\n",
       "      <td>win</td>\n",
       "      <td>Brentford</td>\n",
       "      <td>2.0</td>\n",
       "      <td>7.6</td>\n",
       "    </tr>\n",
       "    <tr>\n",
       "      <th>653</th>\n",
       "      <td>Ashley Young</td>\n",
       "      <td>Everton</td>\n",
       "      <td>Left Back</td>\n",
       "      <td>38</td>\n",
       "      <td>2023/24</td>\n",
       "      <td>75</td>\n",
       "      <td>muscle injury</td>\n",
       "      <td>Dec 11, 2023</td>\n",
       "      <td>Jan 25, 2024</td>\n",
       "      <td>win</td>\n",
       "      <td>...</td>\n",
       "      <td>0.0</td>\n",
       "      <td>5.6</td>\n",
       "      <td>draw</td>\n",
       "      <td>Tottenham</td>\n",
       "      <td>0.0</td>\n",
       "      <td>6.3</td>\n",
       "      <td>lose</td>\n",
       "      <td>Man City</td>\n",
       "      <td>-2.0</td>\n",
       "      <td>5.2</td>\n",
       "    </tr>\n",
       "    <tr>\n",
       "      <th>654</th>\n",
       "      <td>Jack Harrison</td>\n",
       "      <td>Everton</td>\n",
       "      <td>Right winger</td>\n",
       "      <td>26</td>\n",
       "      <td>2023/24</td>\n",
       "      <td>76</td>\n",
       "      <td>hip injury</td>\n",
       "      <td>Jul 1, 2023</td>\n",
       "      <td>Sep 21, 2023</td>\n",
       "      <td>NaN</td>\n",
       "      <td>...</td>\n",
       "      <td>-1.0</td>\n",
       "      <td>6.5(S)</td>\n",
       "      <td>win</td>\n",
       "      <td>Bournemouth</td>\n",
       "      <td>3.0</td>\n",
       "      <td>8.5</td>\n",
       "      <td>lose</td>\n",
       "      <td>Liverpool</td>\n",
       "      <td>-2.0</td>\n",
       "      <td>5.4</td>\n",
       "    </tr>\n",
       "    <tr>\n",
       "      <th>655</th>\n",
       "      <td>Beto</td>\n",
       "      <td>Everton</td>\n",
       "      <td>Center Forward</td>\n",
       "      <td>25</td>\n",
       "      <td>2023/24</td>\n",
       "      <td>81</td>\n",
       "      <td>knee injury</td>\n",
       "      <td>Nov 23, 2023</td>\n",
       "      <td>Nov 28, 2023</td>\n",
       "      <td>win</td>\n",
       "      <td>...</td>\n",
       "      <td>1.0</td>\n",
       "      <td>5.7</td>\n",
       "      <td>win</td>\n",
       "      <td>Chelsea</td>\n",
       "      <td>2.0</td>\n",
       "      <td>5.8</td>\n",
       "      <td>lose</td>\n",
       "      <td>Tottenham</td>\n",
       "      <td>-1.0</td>\n",
       "      <td>6(S)</td>\n",
       "    </tr>\n",
       "  </tbody>\n",
       "</table>\n",
       "<p>5 rows × 42 columns</p>\n",
       "</div>"
      ]
     },
     "execution_count": 46,
     "metadata": {},
     "output_type": "execute_result"
    }
   ],
   "execution_count": 46
  },
  {
   "metadata": {
    "ExecuteTime": {
     "end_time": "2025-01-04T16:02:18.407459Z",
     "start_time": "2025-01-04T16:02:18.404584Z"
    }
   },
   "cell_type": "code",
   "source": "print(len(data.columns))",
   "id": "85383a9f7188209c",
   "outputs": [
    {
     "name": "stdout",
     "output_type": "stream",
     "text": [
      "42\n"
     ]
    }
   ],
   "execution_count": 47
  },
  {
   "metadata": {
    "ExecuteTime": {
     "end_time": "2025-01-04T16:02:18.552443Z",
     "start_time": "2025-01-04T16:02:18.546630Z"
    }
   },
   "cell_type": "code",
   "source": "print(len(data))",
   "id": "a81bacaa215ee93",
   "outputs": [
    {
     "name": "stdout",
     "output_type": "stream",
     "text": [
      "656\n"
     ]
    }
   ],
   "execution_count": 48
  },
  {
   "metadata": {
    "ExecuteTime": {
     "end_time": "2025-01-04T16:02:18.703064Z",
     "start_time": "2025-01-04T16:02:18.696749Z"
    }
   },
   "cell_type": "code",
   "source": "data.shape",
   "id": "793290db5b88da9f",
   "outputs": [
    {
     "data": {
      "text/plain": [
       "(656, 42)"
      ]
     },
     "execution_count": 49,
     "metadata": {},
     "output_type": "execute_result"
    }
   ],
   "execution_count": 49
  },
  {
   "metadata": {
    "ExecuteTime": {
     "end_time": "2025-01-04T16:02:18.833807Z",
     "start_time": "2025-01-04T16:02:18.827803Z"
    }
   },
   "cell_type": "code",
   "source": "data.info()",
   "id": "9a753d5eb29293e2",
   "outputs": [
    {
     "name": "stdout",
     "output_type": "stream",
     "text": [
      "<class 'pandas.core.frame.DataFrame'>\n",
      "RangeIndex: 656 entries, 0 to 655\n",
      "Data columns (total 42 columns):\n",
      " #   Column                              Non-Null Count  Dtype  \n",
      "---  ------                              --------------  -----  \n",
      " 0   Name                                656 non-null    object \n",
      " 1   Team Name                           656 non-null    object \n",
      " 2   Position                            656 non-null    object \n",
      " 3   Age                                 656 non-null    int64  \n",
      " 4   Season                              656 non-null    object \n",
      " 5   FIFA rating                         656 non-null    int64  \n",
      " 6   Injury                              656 non-null    object \n",
      " 7   Date of Injury                      656 non-null    object \n",
      " 8   Date of return                      656 non-null    object \n",
      " 9   Match1_before_injury_Result         591 non-null    object \n",
      " 10  Match1_before_injury_Opposition     591 non-null    object \n",
      " 11  Match1_before_injury_GD             591 non-null    float64\n",
      " 12  Match1_before_injury_Player_rating  589 non-null    object \n",
      " 13  Match2_before_injury_Result         555 non-null    object \n",
      " 14  Match2_before_injury_Opposition     555 non-null    object \n",
      " 15  Match2_before_injury_GD             555 non-null    float64\n",
      " 16  Match2_before_injury_Player_rating  554 non-null    object \n",
      " 17  Match3_before_injury_Result         499 non-null    object \n",
      " 18  Match3_before_injury_Opposition     499 non-null    object \n",
      " 19  Match3_before_injury_GD             499 non-null    float64\n",
      " 20  Match3_before_injury_Player_rating  499 non-null    object \n",
      " 21  Match1_missed_match_Result          654 non-null    object \n",
      " 22  Match1_missed_match_Opposition      654 non-null    object \n",
      " 23  Match1_missed_match_GD              654 non-null    float64\n",
      " 24  Match2_missed_match_Result          483 non-null    object \n",
      " 25  Match2_missed_match_Opposition      483 non-null    object \n",
      " 26  Match2_missed_match_GD              481 non-null    float64\n",
      " 27  Match3_missed_match_Result          371 non-null    object \n",
      " 28  Match3_missed_match_Opposition      371 non-null    object \n",
      " 29  Match3_missed_match_GD              371 non-null    float64\n",
      " 30  Match1_after_injury_Result          515 non-null    object \n",
      " 31  Match1_after_injury_Opposition      515 non-null    object \n",
      " 32  Match1_after_injury_GD              515 non-null    float64\n",
      " 33  Match1_after_injury_Player_rating   515 non-null    object \n",
      " 34  Match2_after_injury_Result          490 non-null    object \n",
      " 35  Match2_after_injury_Opposition      490 non-null    object \n",
      " 36  Match2_after_injury_GD              490 non-null    float64\n",
      " 37  Match2_after_injury_Player_rating   488 non-null    object \n",
      " 38  Match3_after_injury_Result          437 non-null    object \n",
      " 39  Match3_after_injury_Opposition      437 non-null    object \n",
      " 40  Match3_after_injury_GD              437 non-null    float64\n",
      " 41  Match3_after_injury_Player_rating   436 non-null    object \n",
      "dtypes: float64(9), int64(2), object(31)\n",
      "memory usage: 215.4+ KB\n"
     ]
    }
   ],
   "execution_count": 50
  },
  {
   "metadata": {},
   "cell_type": "markdown",
   "source": "### Correlation Check",
   "id": "5a42c6961f011388"
  },
  {
   "metadata": {
    "ExecuteTime": {
     "end_time": "2025-01-04T16:02:19.082120Z",
     "start_time": "2025-01-04T16:02:19.078586Z"
    }
   },
   "cell_type": "code",
   "source": [
    "input_features = ['Age', 'FIFA rating', 'Match1_before_injury_GD', 'Match1_missed_match_GD']\n",
    "output_features = ['Match1_after_injury_GD']\n",
    "selected_features = input_features + output_features\n",
    "correlation_matrix = data[selected_features].corr()"
   ],
   "id": "3a84de7e9fe4e023",
   "outputs": [],
   "execution_count": 51
  },
  {
   "metadata": {
    "ExecuteTime": {
     "end_time": "2025-01-04T16:02:19.253146Z",
     "start_time": "2025-01-04T16:02:19.133566Z"
    }
   },
   "cell_type": "code",
   "source": [
    "plt.figure(figsize=(5, 4))\n",
    "sns.heatmap(correlation_matrix, annot=True, cmap='coolwarm', fmt='.2f', linewidths=0.5)\n",
    "plt.title('Correlation Heatmap')\n",
    "plt.show()"
   ],
   "id": "25dd74af4d7a9735",
   "outputs": [
    {
     "data": {
      "text/plain": [
       "<Figure size 500x400 with 2 Axes>"
      ],
      "image/png": "[encoded data removed]"
     },
     "metadata": {},
     "output_type": "display_data"
    }
   ],
   "execution_count": 52
  },
  {
   "metadata": {},
   "cell_type": "markdown",
   "source": "### Balance Check",
   "id": "b94fc515754c630f"
  },
  {
   "metadata": {
    "ExecuteTime": {
     "end_time": "2025-01-04T16:02:19.377296Z",
     "start_time": "2025-01-04T16:02:19.285599Z"
    }
   },
   "cell_type": "code",
   "source": [
    "target_column = 'Match1_after_injury_Result'\n",
    "\n",
    "class_counts = data[target_column].value_counts()\n",
    "\n",
    "plt.figure(figsize=(8, 6))\n",
    "sns.barplot(x=class_counts.index, y=class_counts.values, palette='viridis', hue=class_counts.index, legend=False)\n",
    "\n",
    "plt.xlabel('Classes', fontsize=12)\n",
    "plt.ylabel('Count', fontsize=12)\n",
    "plt.title('Class Distribution', fontsize=16)\n",
    "\n",
    "for i, count in enumerate(class_counts.values):\n",
    "    plt.text(i, count, str(count), ha='center', va='bottom', fontsize=10)\n",
    "\n",
    "plt.show()"
   ],
   "id": "3f46abd97d3f94a0",
   "outputs": [
    {
     "data": {
      "text/plain": [
       "<Figure size 800x600 with 1 Axes>"
      ],
      "image/png": "[encoded data removed]"
     },
     "metadata": {},
     "output_type": "display_data"
    }
   ],
   "execution_count": 53
  },
  {
   "metadata": {},
   "cell_type": "markdown",
   "source": "## Dataset pre-processing",
   "id": "eeeaf4afcffa383c"
  },
  {
   "metadata": {
    "ExecuteTime": {
     "end_time": "2025-01-04T16:02:19.426067Z",
     "start_time": "2025-01-04T16:02:19.420068Z"
    }
   },
   "cell_type": "code",
   "source": "data.isnull().sum()",
   "id": "55176f936194f8f2",
   "outputs": [
    {
     "data": {
      "text/plain": [
       "Name                                    0\n",
       "Team Name                               0\n",
       "Position                                0\n",
       "Age                                     0\n",
       "Season                                  0\n",
       "FIFA rating                             0\n",
       "Injury                                  0\n",
       "Date of Injury                          0\n",
       "Date of return                          0\n",
       "Match1_before_injury_Result            65\n",
       "Match1_before_injury_Opposition        65\n",
       "Match1_before_injury_GD                65\n",
       "Match1_before_injury_Player_rating     67\n",
       "Match2_before_injury_Result           101\n",
       "Match2_before_injury_Opposition       101\n",
       "Match2_before_injury_GD               101\n",
       "Match2_before_injury_Player_rating    102\n",
       "Match3_before_injury_Result           157\n",
       "Match3_before_injury_Opposition       157\n",
       "Match3_before_injury_GD               157\n",
       "Match3_before_injury_Player_rating    157\n",
       "Match1_missed_match_Result              2\n",
       "Match1_missed_match_Opposition          2\n",
       "Match1_missed_match_GD                  2\n",
       "Match2_missed_match_Result            173\n",
       "Match2_missed_match_Opposition        173\n",
       "Match2_missed_match_GD                175\n",
       "Match3_missed_match_Result            285\n",
       "Match3_missed_match_Opposition        285\n",
       "Match3_missed_match_GD                285\n",
       "Match1_after_injury_Result            141\n",
       "Match1_after_injury_Opposition        141\n",
       "Match1_after_injury_GD                141\n",
       "Match1_after_injury_Player_rating     141\n",
       "Match2_after_injury_Result            166\n",
       "Match2_after_injury_Opposition        166\n",
       "Match2_after_injury_GD                166\n",
       "Match2_after_injury_Player_rating     168\n",
       "Match3_after_injury_Result            219\n",
       "Match3_after_injury_Opposition        219\n",
       "Match3_after_injury_GD                219\n",
       "Match3_after_injury_Player_rating     220\n",
       "dtype: int64"
      ]
     },
     "execution_count": 54,
     "metadata": {},
     "output_type": "execute_result"
    }
   ],
   "execution_count": 54
  },
  {
   "metadata": {},
   "cell_type": "markdown",
   "source": "### Dropping unwanted columns\n",
   "id": "1dac4bc064cbbd5"
  },
  {
   "metadata": {
    "ExecuteTime": {
     "end_time": "2025-01-04T16:02:19.496525Z",
     "start_time": "2025-01-04T16:02:19.492311Z"
    }
   },
   "cell_type": "code",
   "source": [
    "print(\"shape of dataframe before dropping:\", data.shape)\n",
    "\n",
    "data = data.drop(['Name', 'Match2_after_injury_Result', 'Match2_after_injury_Opposition', 'Match2_after_injury_GD',\n",
    "                  'Match2_after_injury_Player_rating', 'Match3_after_injury_Result', 'Match3_after_injury_Opposition',\n",
    "                  'Match3_after_injury_GD', 'Match3_after_injury_Player_rating', 'Match3_missed_match_Result',\n",
    "                  'Match3_missed_match_Opposition', 'Match3_missed_match_GD', 'Match1_after_injury_GD',\n",
    "                  'Match1_after_injury_Player_rating'], axis=1)\n",
    "print(\"shape of dataframe after dropping:\", data.shape)"
   ],
   "id": "aaa00a3392cd7c40",
   "outputs": [
    {
     "name": "stdout",
     "output_type": "stream",
     "text": [
      "shape of dataframe before dropping: (656, 42)\n",
      "shape of dataframe after dropping: (656, 28)\n"
     ]
    }
   ],
   "execution_count": 55
  },
  {
   "metadata": {},
   "cell_type": "markdown",
   "source": "### Dropping rows where target is None\n",
   "id": "2cd0a6115cbf050e"
  },
  {
   "metadata": {
    "ExecuteTime": {
     "end_time": "2025-01-04T16:02:19.589098Z",
     "start_time": "2025-01-04T16:02:19.584794Z"
    }
   },
   "cell_type": "code",
   "source": [
    "print(\"shape of dataframe before dropping:\", data.shape)\n",
    "\n",
    "target_column = 'Match1_after_injury_Result'\n",
    "\n",
    "data = data.dropna(subset=[target_column])\n",
    "\n",
    "print(\"shape of dataframe after dropping:\", data.shape)"
   ],
   "id": "1ac14148ab188b4",
   "outputs": [
    {
     "name": "stdout",
     "output_type": "stream",
     "text": [
      "shape of dataframe before dropping: (656, 28)\n",
      "shape of dataframe after dropping: (515, 28)\n"
     ]
    }
   ],
   "execution_count": 56
  },
  {
   "metadata": {},
   "cell_type": "markdown",
   "source": "### Encoding Categorical data",
   "id": "bcfc641902f135b5"
  },
  {
   "metadata": {},
   "cell_type": "markdown",
   "source": "#### One Hot Encoding",
   "id": "ab115c8ff1b3491c"
  },
  {
   "metadata": {
    "ExecuteTime": {
     "end_time": "2025-01-04T16:02:19.718127Z",
     "start_time": "2025-01-04T16:02:19.695134Z"
    }
   },
   "cell_type": "code",
   "source": [
    "data = pd.get_dummies(data, columns=['Team Name', 'Position', 'Season', 'Injury', 'Match1_before_injury_Opposition',\n",
    "                                     'Match2_before_injury_Opposition', 'Match3_before_injury_Opposition',\n",
    "                                     'Match1_after_injury_Opposition', 'Match1_missed_match_Opposition',\n",
    "                                     'Match2_missed_match_Opposition'], drop_first=True)\n",
    "print(data.shape)\n",
    "data.head()"
   ],
   "id": "92463f8e5f73ba07",
   "outputs": [
    {
     "name": "stdout",
     "output_type": "stream",
     "text": [
      "(515, 311)\n"
     ]
    },
    {
     "data": {
      "text/plain": [
       "   Age  FIFA rating Date of Injury Date of return Match1_before_injury_Result  \\\n",
       "0   26           77    Nov 9, 2019   Jan 13, 2020                        draw   \n",
       "2   28           79    Jan 2, 2020   Jan 17, 2020                        lose   \n",
       "5   30           75    Dec 9, 2019   Jan 10, 2020                        draw   \n",
       "7   26           77   Sep 22, 2019    Oct 5, 2019                        draw   \n",
       "8   26           77   Dec 15, 2019   Dec 25, 2019                         win   \n",
       "\n",
       "   Match1_before_injury_GD Match1_before_injury_Player_rating  \\\n",
       "0                      0.0                                7.4   \n",
       "2                     -3.0                                4.9   \n",
       "5                      0.0                                  6   \n",
       "7                      0.0                                6.7   \n",
       "8                      2.0                                  6   \n",
       "\n",
       "  Match2_before_injury_Result  Match2_before_injury_GD  \\\n",
       "0                         win                      1.0   \n",
       "2                        lose                     -1.0   \n",
       "5                         win                      2.0   \n",
       "7                        lose                     -2.0   \n",
       "8                         win                     -1.0   \n",
       "\n",
       "  Match2_before_injury_Player_rating  ...  \\\n",
       "0                                6.1  ...   \n",
       "2                                7.7  ...   \n",
       "5                                6.4  ...   \n",
       "7                                6.5  ...   \n",
       "8                                5.8  ...   \n",
       "\n",
       "  Match2_missed_match_Opposition_Newcastle  \\\n",
       "0                                    False   \n",
       "2                                    False   \n",
       "5                                    False   \n",
       "7                                    False   \n",
       "8                                    False   \n",
       "\n",
       "   Match2_missed_match_Opposition_Norwich City  \\\n",
       "0                                        False   \n",
       "2                                        False   \n",
       "5                                        False   \n",
       "7                                        False   \n",
       "8                                        False   \n",
       "\n",
       "  Match2_missed_match_Opposition_Nottm Forest  \\\n",
       "0                                       False   \n",
       "2                                       False   \n",
       "5                                       False   \n",
       "7                                       False   \n",
       "8                                       False   \n",
       "\n",
       "  Match2_missed_match_Opposition_Sheffield  \\\n",
       "0                                    False   \n",
       "2                                    False   \n",
       "5                                    False   \n",
       "7                                    False   \n",
       "8                                    False   \n",
       "\n",
       "   Match2_missed_match_Opposition_Southampton  \\\n",
       "0                                       False   \n",
       "2                                       False   \n",
       "5                                       False   \n",
       "7                                       False   \n",
       "8                                       False   \n",
       "\n",
       "  Match2_missed_match_Opposition_Tottenham  \\\n",
       "0                                    False   \n",
       "2                                    False   \n",
       "5                                    False   \n",
       "7                                    False   \n",
       "8                                    False   \n",
       "\n",
       "   Match2_missed_match_Opposition_Watford  \\\n",
       "0                                   False   \n",
       "2                                   False   \n",
       "5                                   False   \n",
       "7                                   False   \n",
       "8                                   False   \n",
       "\n",
       "  Match2_missed_match_Opposition_West Brom  \\\n",
       "0                                    False   \n",
       "2                                    False   \n",
       "5                                    False   \n",
       "7                                    False   \n",
       "8                                    False   \n",
       "\n",
       "   Match2_missed_match_Opposition_West Ham  \\\n",
       "0                                    False   \n",
       "2                                    False   \n",
       "5                                    False   \n",
       "7                                    False   \n",
       "8                                    False   \n",
       "\n",
       "   Match2_missed_match_Opposition_Wolves  \n",
       "0                                  False  \n",
       "2                                  False  \n",
       "5                                  False  \n",
       "7                                  False  \n",
       "8                                  False  \n",
       "\n",
       "[5 rows x 311 columns]"
      ],
      "text/html": [
       "<div>\n",
       "<style scoped>\n",
       "    .dataframe tbody tr th:only-of-type {\n",
       "        vertical-align: middle;\n",
       "    }\n",
       "\n",
       "    .dataframe tbody tr th {\n",
       "        vertical-align: top;\n",
       "    }\n",
       "\n",
       "    .dataframe thead th {\n",
       "        text-align: right;\n",
       "    }\n",
       "</style>\n",
       "<table border=\"1\" class=\"dataframe\">\n",
       "  <thead>\n",
       "    <tr style=\"text-align: right;\">\n",
       "      <th></th>\n",
       "      <th>Age</th>\n",
       "      <th>FIFA rating</th>\n",
       "      <th>Date of Injury</th>\n",
       "      <th>Date of return</th>\n",
       "      <th>Match1_before_injury_Result</th>\n",
       "      <th>Match1_before_injury_GD</th>\n",
       "      <th>Match1_before_injury_Player_rating</th>\n",
       "      <th>Match2_before_injury_Result</th>\n",
       "      <th>Match2_before_injury_GD</th>\n",
       "      <th>Match2_before_injury_Player_rating</th>\n",
       "      <th>...</th>\n",
       "      <th>Match2_missed_match_Opposition_Newcastle</th>\n",
       "      <th>Match2_missed_match_Opposition_Norwich City</th>\n",
       "      <th>Match2_missed_match_Opposition_Nottm Forest</th>\n",
       "      <th>Match2_missed_match_Opposition_Sheffield</th>\n",
       "      <th>Match2_missed_match_Opposition_Southampton</th>\n",
       "      <th>Match2_missed_match_Opposition_Tottenham</th>\n",
       "      <th>Match2_missed_match_Opposition_Watford</th>\n",
       "      <th>Match2_missed_match_Opposition_West Brom</th>\n",
       "      <th>Match2_missed_match_Opposition_West Ham</th>\n",
       "      <th>Match2_missed_match_Opposition_Wolves</th>\n",
       "    </tr>\n",
       "  </thead>\n",
       "  <tbody>\n",
       "    <tr>\n",
       "      <th>0</th>\n",
       "      <td>26</td>\n",
       "      <td>77</td>\n",
       "      <td>Nov 9, 2019</td>\n",
       "      <td>Jan 13, 2020</td>\n",
       "      <td>draw</td>\n",
       "      <td>0.0</td>\n",
       "      <td>7.4</td>\n",
       "      <td>win</td>\n",
       "      <td>1.0</td>\n",
       "      <td>6.1</td>\n",
       "      <td>...</td>\n",
       "      <td>False</td>\n",
       "      <td>False</td>\n",
       "      <td>False</td>\n",
       "      <td>False</td>\n",
       "      <td>False</td>\n",
       "      <td>False</td>\n",
       "      <td>False</td>\n",
       "      <td>False</td>\n",
       "      <td>False</td>\n",
       "      <td>False</td>\n",
       "    </tr>\n",
       "    <tr>\n",
       "      <th>2</th>\n",
       "      <td>28</td>\n",
       "      <td>79</td>\n",
       "      <td>Jan 2, 2020</td>\n",
       "      <td>Jan 17, 2020</td>\n",
       "      <td>lose</td>\n",
       "      <td>-3.0</td>\n",
       "      <td>4.9</td>\n",
       "      <td>lose</td>\n",
       "      <td>-1.0</td>\n",
       "      <td>7.7</td>\n",
       "      <td>...</td>\n",
       "      <td>False</td>\n",
       "      <td>False</td>\n",
       "      <td>False</td>\n",
       "      <td>False</td>\n",
       "      <td>False</td>\n",
       "      <td>False</td>\n",
       "      <td>False</td>\n",
       "      <td>False</td>\n",
       "      <td>False</td>\n",
       "      <td>False</td>\n",
       "    </tr>\n",
       "    <tr>\n",
       "      <th>5</th>\n",
       "      <td>30</td>\n",
       "      <td>75</td>\n",
       "      <td>Dec 9, 2019</td>\n",
       "      <td>Jan 10, 2020</td>\n",
       "      <td>draw</td>\n",
       "      <td>0.0</td>\n",
       "      <td>6</td>\n",
       "      <td>win</td>\n",
       "      <td>2.0</td>\n",
       "      <td>6.4</td>\n",
       "      <td>...</td>\n",
       "      <td>False</td>\n",
       "      <td>False</td>\n",
       "      <td>False</td>\n",
       "      <td>False</td>\n",
       "      <td>False</td>\n",
       "      <td>False</td>\n",
       "      <td>False</td>\n",
       "      <td>False</td>\n",
       "      <td>False</td>\n",
       "      <td>False</td>\n",
       "    </tr>\n",
       "    <tr>\n",
       "      <th>7</th>\n",
       "      <td>26</td>\n",
       "      <td>77</td>\n",
       "      <td>Sep 22, 2019</td>\n",
       "      <td>Oct 5, 2019</td>\n",
       "      <td>draw</td>\n",
       "      <td>0.0</td>\n",
       "      <td>6.7</td>\n",
       "      <td>lose</td>\n",
       "      <td>-2.0</td>\n",
       "      <td>6.5</td>\n",
       "      <td>...</td>\n",
       "      <td>False</td>\n",
       "      <td>False</td>\n",
       "      <td>False</td>\n",
       "      <td>False</td>\n",
       "      <td>False</td>\n",
       "      <td>False</td>\n",
       "      <td>False</td>\n",
       "      <td>False</td>\n",
       "      <td>False</td>\n",
       "      <td>False</td>\n",
       "    </tr>\n",
       "    <tr>\n",
       "      <th>8</th>\n",
       "      <td>26</td>\n",
       "      <td>77</td>\n",
       "      <td>Dec 15, 2019</td>\n",
       "      <td>Dec 25, 2019</td>\n",
       "      <td>win</td>\n",
       "      <td>2.0</td>\n",
       "      <td>6</td>\n",
       "      <td>win</td>\n",
       "      <td>-1.0</td>\n",
       "      <td>5.8</td>\n",
       "      <td>...</td>\n",
       "      <td>False</td>\n",
       "      <td>False</td>\n",
       "      <td>False</td>\n",
       "      <td>False</td>\n",
       "      <td>False</td>\n",
       "      <td>False</td>\n",
       "      <td>False</td>\n",
       "      <td>False</td>\n",
       "      <td>False</td>\n",
       "      <td>False</td>\n",
       "    </tr>\n",
       "  </tbody>\n",
       "</table>\n",
       "<p>5 rows × 311 columns</p>\n",
       "</div>"
      ]
     },
     "execution_count": 57,
     "metadata": {},
     "output_type": "execute_result"
    }
   ],
   "execution_count": 57
  },
  {
   "metadata": {},
   "cell_type": "markdown",
   "source": "#### Label Encoding",
   "id": "47efb9892ae19175"
  },
  {
   "metadata": {
    "ExecuteTime": {
     "end_time": "2025-01-04T16:02:19.820875Z",
     "start_time": "2025-01-04T16:02:19.817917Z"
    }
   },
   "cell_type": "code",
   "source": "data['Match1_before_injury_Result'].unique()",
   "id": "728cd2123e1e318c",
   "outputs": [
    {
     "data": {
      "text/plain": [
       "array(['draw', 'lose', 'win', nan], dtype=object)"
      ]
     },
     "execution_count": 58,
     "metadata": {},
     "output_type": "execute_result"
    }
   ],
   "execution_count": 58
  },
  {
   "metadata": {
    "ExecuteTime": {
     "end_time": "2025-01-04T16:02:19.933077Z",
     "start_time": "2025-01-04T16:02:19.918791Z"
    }
   },
   "cell_type": "code",
   "source": [
    "mappings = {'Match1_before_injury_Result': {'draw': 1, 'lose': 0, 'win': 2},\n",
    "            'Match2_before_injury_Result': {'draw': 1, 'lose': 0, 'win': 2},\n",
    "            'Match3_before_injury_Result': {'draw': 1, 'lose': 0, 'win': 2},\n",
    "            'Match1_after_injury_Result': {'draw': 1, 'lose': 0, 'win': 2},\n",
    "            'Match1_missed_match_Result': {'draw': 1, 'lose': 0, 'win': 2},\n",
    "            'Match2_missed_match_Result': {'draw': 1, 'lose': 0, 'win': 2}}\n",
    "\n",
    "for column, mapping in mappings.items():\n",
    "    data[column] = data[column].map(mapping)\n",
    "\n",
    "data.head()"
   ],
   "id": "be14397788780b9e",
   "outputs": [
    {
     "data": {
      "text/plain": [
       "   Age  FIFA rating Date of Injury Date of return  \\\n",
       "0   26           77    Nov 9, 2019   Jan 13, 2020   \n",
       "2   28           79    Jan 2, 2020   Jan 17, 2020   \n",
       "5   30           75    Dec 9, 2019   Jan 10, 2020   \n",
       "7   26           77   Sep 22, 2019    Oct 5, 2019   \n",
       "8   26           77   Dec 15, 2019   Dec 25, 2019   \n",
       "\n",
       "   Match1_before_injury_Result  Match1_before_injury_GD  \\\n",
       "0                          1.0                      0.0   \n",
       "2                          0.0                     -3.0   \n",
       "5                          1.0                      0.0   \n",
       "7                          1.0                      0.0   \n",
       "8                          2.0                      2.0   \n",
       "\n",
       "  Match1_before_injury_Player_rating  Match2_before_injury_Result  \\\n",
       "0                                7.4                          2.0   \n",
       "2                                4.9                          0.0   \n",
       "5                                  6                          2.0   \n",
       "7                                6.7                          0.0   \n",
       "8                                  6                          2.0   \n",
       "\n",
       "   Match2_before_injury_GD Match2_before_injury_Player_rating  ...  \\\n",
       "0                      1.0                                6.1  ...   \n",
       "2                     -1.0                                7.7  ...   \n",
       "5                      2.0                                6.4  ...   \n",
       "7                     -2.0                                6.5  ...   \n",
       "8                     -1.0                                5.8  ...   \n",
       "\n",
       "   Match2_missed_match_Opposition_Newcastle  \\\n",
       "0                                     False   \n",
       "2                                     False   \n",
       "5                                     False   \n",
       "7                                     False   \n",
       "8                                     False   \n",
       "\n",
       "   Match2_missed_match_Opposition_Norwich City  \\\n",
       "0                                        False   \n",
       "2                                        False   \n",
       "5                                        False   \n",
       "7                                        False   \n",
       "8                                        False   \n",
       "\n",
       "  Match2_missed_match_Opposition_Nottm Forest  \\\n",
       "0                                       False   \n",
       "2                                       False   \n",
       "5                                       False   \n",
       "7                                       False   \n",
       "8                                       False   \n",
       "\n",
       "   Match2_missed_match_Opposition_Sheffield  \\\n",
       "0                                     False   \n",
       "2                                     False   \n",
       "5                                     False   \n",
       "7                                     False   \n",
       "8                                     False   \n",
       "\n",
       "   Match2_missed_match_Opposition_Southampton  \\\n",
       "0                                       False   \n",
       "2                                       False   \n",
       "5                                       False   \n",
       "7                                       False   \n",
       "8                                       False   \n",
       "\n",
       "   Match2_missed_match_Opposition_Tottenham  \\\n",
       "0                                     False   \n",
       "2                                     False   \n",
       "5                                     False   \n",
       "7                                     False   \n",
       "8                                     False   \n",
       "\n",
       "   Match2_missed_match_Opposition_Watford  \\\n",
       "0                                   False   \n",
       "2                                   False   \n",
       "5                                   False   \n",
       "7                                   False   \n",
       "8                                   False   \n",
       "\n",
       "   Match2_missed_match_Opposition_West Brom  \\\n",
       "0                                     False   \n",
       "2                                     False   \n",
       "5                                     False   \n",
       "7                                     False   \n",
       "8                                     False   \n",
       "\n",
       "   Match2_missed_match_Opposition_West Ham  \\\n",
       "0                                    False   \n",
       "2                                    False   \n",
       "5                                    False   \n",
       "7                                    False   \n",
       "8                                    False   \n",
       "\n",
       "   Match2_missed_match_Opposition_Wolves  \n",
       "0                                  False  \n",
       "2                                  False  \n",
       "5                                  False  \n",
       "7                                  False  \n",
       "8                                  False  \n",
       "\n",
       "[5 rows x 311 columns]"
      ],
      "text/html": [
       "<div>\n",
       "<style scoped>\n",
       "    .dataframe tbody tr th:only-of-type {\n",
       "        vertical-align: middle;\n",
       "    }\n",
       "\n",
       "    .dataframe tbody tr th {\n",
       "        vertical-align: top;\n",
       "    }\n",
       "\n",
       "    .dataframe thead th {\n",
       "        text-align: right;\n",
       "    }\n",
       "</style>\n",
       "<table border=\"1\" class=\"dataframe\">\n",
       "  <thead>\n",
       "    <tr style=\"text-align: right;\">\n",
       "      <th></th>\n",
       "      <th>Age</th>\n",
       "      <th>FIFA rating</th>\n",
       "      <th>Date of Injury</th>\n",
       "      <th>Date of return</th>\n",
       "      <th>Match1_before_injury_Result</th>\n",
       "      <th>Match1_before_injury_GD</th>\n",
       "      <th>Match1_before_injury_Player_rating</th>\n",
       "      <th>Match2_before_injury_Result</th>\n",
       "      <th>Match2_before_injury_GD</th>\n",
       "      <th>Match2_before_injury_Player_rating</th>\n",
       "      <th>...</th>\n",
       "      <th>Match2_missed_match_Opposition_Newcastle</th>\n",
       "      <th>Match2_missed_match_Opposition_Norwich City</th>\n",
       "      <th>Match2_missed_match_Opposition_Nottm Forest</th>\n",
       "      <th>Match2_missed_match_Opposition_Sheffield</th>\n",
       "      <th>Match2_missed_match_Opposition_Southampton</th>\n",
       "      <th>Match2_missed_match_Opposition_Tottenham</th>\n",
       "      <th>Match2_missed_match_Opposition_Watford</th>\n",
       "      <th>Match2_missed_match_Opposition_West Brom</th>\n",
       "      <th>Match2_missed_match_Opposition_West Ham</th>\n",
       "      <th>Match2_missed_match_Opposition_Wolves</th>\n",
       "    </tr>\n",
       "  </thead>\n",
       "  <tbody>\n",
       "    <tr>\n",
       "      <th>0</th>\n",
       "      <td>26</td>\n",
       "      <td>77</td>\n",
       "      <td>Nov 9, 2019</td>\n",
       "      <td>Jan 13, 2020</td>\n",
       "      <td>1.0</td>\n",
       "      <td>0.0</td>\n",
       "      <td>7.4</td>\n",
       "      <td>2.0</td>\n",
       "      <td>1.0</td>\n",
       "      <td>6.1</td>\n",
       "      <td>...</td>\n",
       "      <td>False</td>\n",
       "      <td>False</td>\n",
       "      <td>False</td>\n",
       "      <td>False</td>\n",
       "      <td>False</td>\n",
       "      <td>False</td>\n",
       "      <td>False</td>\n",
       "      <td>False</td>\n",
       "      <td>False</td>\n",
       "      <td>False</td>\n",
       "    </tr>\n",
       "    <tr>\n",
       "      <th>2</th>\n",
       "      <td>28</td>\n",
       "      <td>79</td>\n",
       "      <td>Jan 2, 2020</td>\n",
       "      <td>Jan 17, 2020</td>\n",
       "      <td>0.0</td>\n",
       "      <td>-3.0</td>\n",
       "      <td>4.9</td>\n",
       "      <td>0.0</td>\n",
       "      <td>-1.0</td>\n",
       "      <td>7.7</td>\n",
       "      <td>...</td>\n",
       "      <td>False</td>\n",
       "      <td>False</td>\n",
       "      <td>False</td>\n",
       "      <td>False</td>\n",
       "      <td>False</td>\n",
       "      <td>False</td>\n",
       "      <td>False</td>\n",
       "      <td>False</td>\n",
       "      <td>False</td>\n",
       "      <td>False</td>\n",
       "    </tr>\n",
       "    <tr>\n",
       "      <th>5</th>\n",
       "      <td>30</td>\n",
       "      <td>75</td>\n",
       "      <td>Dec 9, 2019</td>\n",
       "      <td>Jan 10, 2020</td>\n",
       "      <td>1.0</td>\n",
       "      <td>0.0</td>\n",
       "      <td>6</td>\n",
       "      <td>2.0</td>\n",
       "      <td>2.0</td>\n",
       "      <td>6.4</td>\n",
       "      <td>...</td>\n",
       "      <td>False</td>\n",
       "      <td>False</td>\n",
       "      <td>False</td>\n",
       "      <td>False</td>\n",
       "      <td>False</td>\n",
       "      <td>False</td>\n",
       "      <td>False</td>\n",
       "      <td>False</td>\n",
       "      <td>False</td>\n",
       "      <td>False</td>\n",
       "    </tr>\n",
       "    <tr>\n",
       "      <th>7</th>\n",
       "      <td>26</td>\n",
       "      <td>77</td>\n",
       "      <td>Sep 22, 2019</td>\n",
       "      <td>Oct 5, 2019</td>\n",
       "      <td>1.0</td>\n",
       "      <td>0.0</td>\n",
       "      <td>6.7</td>\n",
       "      <td>0.0</td>\n",
       "      <td>-2.0</td>\n",
       "      <td>6.5</td>\n",
       "      <td>...</td>\n",
       "      <td>False</td>\n",
       "      <td>False</td>\n",
       "      <td>False</td>\n",
       "      <td>False</td>\n",
       "      <td>False</td>\n",
       "      <td>False</td>\n",
       "      <td>False</td>\n",
       "      <td>False</td>\n",
       "      <td>False</td>\n",
       "      <td>False</td>\n",
       "    </tr>\n",
       "    <tr>\n",
       "      <th>8</th>\n",
       "      <td>26</td>\n",
       "      <td>77</td>\n",
       "      <td>Dec 15, 2019</td>\n",
       "      <td>Dec 25, 2019</td>\n",
       "      <td>2.0</td>\n",
       "      <td>2.0</td>\n",
       "      <td>6</td>\n",
       "      <td>2.0</td>\n",
       "      <td>-1.0</td>\n",
       "      <td>5.8</td>\n",
       "      <td>...</td>\n",
       "      <td>False</td>\n",
       "      <td>False</td>\n",
       "      <td>False</td>\n",
       "      <td>False</td>\n",
       "      <td>False</td>\n",
       "      <td>False</td>\n",
       "      <td>False</td>\n",
       "      <td>False</td>\n",
       "      <td>False</td>\n",
       "      <td>False</td>\n",
       "    </tr>\n",
       "  </tbody>\n",
       "</table>\n",
       "<p>5 rows × 311 columns</p>\n",
       "</div>"
      ]
     },
     "execution_count": 59,
     "metadata": {},
     "output_type": "execute_result"
    }
   ],
   "execution_count": 59
  },
  {
   "metadata": {},
   "cell_type": "markdown",
   "source": "### Converting rating objects to numerics",
   "id": "df860eb7b7324de6"
  },
  {
   "metadata": {
    "ExecuteTime": {
     "end_time": "2025-01-04T16:02:20.256711Z",
     "start_time": "2025-01-04T16:02:20.251265Z"
    }
   },
   "cell_type": "code",
   "source": [
    "data['Match1_before_injury_Player_rating'] = pd.to_numeric(data['Match1_before_injury_Player_rating'], errors='coerce')\n",
    "data['Match2_before_injury_Player_rating'] = pd.to_numeric(data['Match2_before_injury_Player_rating'], errors='coerce')\n",
    "data['Match3_before_injury_Player_rating'] = pd.to_numeric(data['Match3_before_injury_Player_rating'], errors='coerce')"
   ],
   "id": "32291a2d8223c7b",
   "outputs": [],
   "execution_count": 60
  },
  {
   "metadata": {},
   "cell_type": "markdown",
   "source": "### DateTime",
   "id": "1758dee7bfc11d50"
  },
  {
   "metadata": {
    "ExecuteTime": {
     "end_time": "2025-01-04T16:02:20.392852Z",
     "start_time": "2025-01-04T16:02:20.378770Z"
    }
   },
   "cell_type": "code",
   "source": [
    "datetime_columns = ['Date of Injury', 'Date of return']\n",
    "\n",
    "for col in datetime_columns:\n",
    "    data[col] = pd.to_datetime(data[col], errors='coerce')\n",
    "    data[col] = data[col].apply(lambda row: row.month)\n",
    "\n",
    "data.head()"
   ],
   "id": "678a2b010f598880",
   "outputs": [
    {
     "data": {
      "text/plain": [
       "   Age  FIFA rating  Date of Injury  Date of return  \\\n",
       "0   26           77            11.0             1.0   \n",
       "2   28           79             1.0             1.0   \n",
       "5   30           75            12.0             1.0   \n",
       "7   26           77             9.0            10.0   \n",
       "8   26           77            12.0            12.0   \n",
       "\n",
       "   Match1_before_injury_Result  Match1_before_injury_GD  \\\n",
       "0                          1.0                      0.0   \n",
       "2                          0.0                     -3.0   \n",
       "5                          1.0                      0.0   \n",
       "7                          1.0                      0.0   \n",
       "8                          2.0                      2.0   \n",
       "\n",
       "   Match1_before_injury_Player_rating  Match2_before_injury_Result  \\\n",
       "0                                 7.4                          2.0   \n",
       "2                                 4.9                          0.0   \n",
       "5                                 6.0                          2.0   \n",
       "7                                 6.7                          0.0   \n",
       "8                                 6.0                          2.0   \n",
       "\n",
       "   Match2_before_injury_GD  Match2_before_injury_Player_rating  ...  \\\n",
       "0                      1.0                                 6.1  ...   \n",
       "2                     -1.0                                 7.7  ...   \n",
       "5                      2.0                                 6.4  ...   \n",
       "7                     -2.0                                 6.5  ...   \n",
       "8                     -1.0                                 5.8  ...   \n",
       "\n",
       "   Match2_missed_match_Opposition_Newcastle  \\\n",
       "0                                     False   \n",
       "2                                     False   \n",
       "5                                     False   \n",
       "7                                     False   \n",
       "8                                     False   \n",
       "\n",
       "   Match2_missed_match_Opposition_Norwich City  \\\n",
       "0                                        False   \n",
       "2                                        False   \n",
       "5                                        False   \n",
       "7                                        False   \n",
       "8                                        False   \n",
       "\n",
       "   Match2_missed_match_Opposition_Nottm Forest  \\\n",
       "0                                        False   \n",
       "2                                        False   \n",
       "5                                        False   \n",
       "7                                        False   \n",
       "8                                        False   \n",
       "\n",
       "   Match2_missed_match_Opposition_Sheffield  \\\n",
       "0                                     False   \n",
       "2                                     False   \n",
       "5                                     False   \n",
       "7                                     False   \n",
       "8                                     False   \n",
       "\n",
       "   Match2_missed_match_Opposition_Southampton  \\\n",
       "0                                       False   \n",
       "2                                       False   \n",
       "5                                       False   \n",
       "7                                       False   \n",
       "8                                       False   \n",
       "\n",
       "   Match2_missed_match_Opposition_Tottenham  \\\n",
       "0                                     False   \n",
       "2                                     False   \n",
       "5                                     False   \n",
       "7                                     False   \n",
       "8                                     False   \n",
       "\n",
       "   Match2_missed_match_Opposition_Watford  \\\n",
       "0                                   False   \n",
       "2                                   False   \n",
       "5                                   False   \n",
       "7                                   False   \n",
       "8                                   False   \n",
       "\n",
       "   Match2_missed_match_Opposition_West Brom  \\\n",
       "0                                     False   \n",
       "2                                     False   \n",
       "5                                     False   \n",
       "7                                     False   \n",
       "8                                     False   \n",
       "\n",
       "   Match2_missed_match_Opposition_West Ham  \\\n",
       "0                                    False   \n",
       "2                                    False   \n",
       "5                                    False   \n",
       "7                                    False   \n",
       "8                                    False   \n",
       "\n",
       "   Match2_missed_match_Opposition_Wolves  \n",
       "0                                  False  \n",
       "2                                  False  \n",
       "5                                  False  \n",
       "7                                  False  \n",
       "8                                  False  \n",
       "\n",
       "[5 rows x 311 columns]"
      ],
      "text/html": [
       "<div>\n",
       "<style scoped>\n",
       "    .dataframe tbody tr th:only-of-type {\n",
       "        vertical-align: middle;\n",
       "    }\n",
       "\n",
       "    .dataframe tbody tr th {\n",
       "        vertical-align: top;\n",
       "    }\n",
       "\n",
       "    .dataframe thead th {\n",
       "        text-align: right;\n",
       "    }\n",
       "</style>\n",
       "<table border=\"1\" class=\"dataframe\">\n",
       "  <thead>\n",
       "    <tr style=\"text-align: right;\">\n",
       "      <th></th>\n",
       "      <th>Age</th>\n",
       "      <th>FIFA rating</th>\n",
       "      <th>Date of Injury</th>\n",
       "      <th>Date of return</th>\n",
       "      <th>Match1_before_injury_Result</th>\n",
       "      <th>Match1_before_injury_GD</th>\n",
       "      <th>Match1_before_injury_Player_rating</th>\n",
       "      <th>Match2_before_injury_Result</th>\n",
       "      <th>Match2_before_injury_GD</th>\n",
       "      <th>Match2_before_injury_Player_rating</th>\n",
       "      <th>...</th>\n",
       "      <th>Match2_missed_match_Opposition_Newcastle</th>\n",
       "      <th>Match2_missed_match_Opposition_Norwich City</th>\n",
       "      <th>Match2_missed_match_Opposition_Nottm Forest</th>\n",
       "      <th>Match2_missed_match_Opposition_Sheffield</th>\n",
       "      <th>Match2_missed_match_Opposition_Southampton</th>\n",
       "      <th>Match2_missed_match_Opposition_Tottenham</th>\n",
       "      <th>Match2_missed_match_Opposition_Watford</th>\n",
       "      <th>Match2_missed_match_Opposition_West Brom</th>\n",
       "      <th>Match2_missed_match_Opposition_West Ham</th>\n",
       "      <th>Match2_missed_match_Opposition_Wolves</th>\n",
       "    </tr>\n",
       "  </thead>\n",
       "  <tbody>\n",
       "    <tr>\n",
       "      <th>0</th>\n",
       "      <td>26</td>\n",
       "      <td>77</td>\n",
       "      <td>11.0</td>\n",
       "      <td>1.0</td>\n",
       "      <td>1.0</td>\n",
       "      <td>0.0</td>\n",
       "      <td>7.4</td>\n",
       "      <td>2.0</td>\n",
       "      <td>1.0</td>\n",
       "      <td>6.1</td>\n",
       "      <td>...</td>\n",
       "      <td>False</td>\n",
       "      <td>False</td>\n",
       "      <td>False</td>\n",
       "      <td>False</td>\n",
       "      <td>False</td>\n",
       "      <td>False</td>\n",
       "      <td>False</td>\n",
       "      <td>False</td>\n",
       "      <td>False</td>\n",
       "      <td>False</td>\n",
       "    </tr>\n",
       "    <tr>\n",
       "      <th>2</th>\n",
       "      <td>28</td>\n",
       "      <td>79</td>\n",
       "      <td>1.0</td>\n",
       "      <td>1.0</td>\n",
       "      <td>0.0</td>\n",
       "      <td>-3.0</td>\n",
       "      <td>4.9</td>\n",
       "      <td>0.0</td>\n",
       "      <td>-1.0</td>\n",
       "      <td>7.7</td>\n",
       "      <td>...</td>\n",
       "      <td>False</td>\n",
       "      <td>False</td>\n",
       "      <td>False</td>\n",
       "      <td>False</td>\n",
       "      <td>False</td>\n",
       "      <td>False</td>\n",
       "      <td>False</td>\n",
       "      <td>False</td>\n",
       "      <td>False</td>\n",
       "      <td>False</td>\n",
       "    </tr>\n",
       "    <tr>\n",
       "      <th>5</th>\n",
       "      <td>30</td>\n",
       "      <td>75</td>\n",
       "      <td>12.0</td>\n",
       "      <td>1.0</td>\n",
       "      <td>1.0</td>\n",
       "      <td>0.0</td>\n",
       "      <td>6.0</td>\n",
       "      <td>2.0</td>\n",
       "      <td>2.0</td>\n",
       "      <td>6.4</td>\n",
       "      <td>...</td>\n",
       "      <td>False</td>\n",
       "      <td>False</td>\n",
       "      <td>False</td>\n",
       "      <td>False</td>\n",
       "      <td>False</td>\n",
       "      <td>False</td>\n",
       "      <td>False</td>\n",
       "      <td>False</td>\n",
       "      <td>False</td>\n",
       "      <td>False</td>\n",
       "    </tr>\n",
       "    <tr>\n",
       "      <th>7</th>\n",
       "      <td>26</td>\n",
       "      <td>77</td>\n",
       "      <td>9.0</td>\n",
       "      <td>10.0</td>\n",
       "      <td>1.0</td>\n",
       "      <td>0.0</td>\n",
       "      <td>6.7</td>\n",
       "      <td>0.0</td>\n",
       "      <td>-2.0</td>\n",
       "      <td>6.5</td>\n",
       "      <td>...</td>\n",
       "      <td>False</td>\n",
       "      <td>False</td>\n",
       "      <td>False</td>\n",
       "      <td>False</td>\n",
       "      <td>False</td>\n",
       "      <td>False</td>\n",
       "      <td>False</td>\n",
       "      <td>False</td>\n",
       "      <td>False</td>\n",
       "      <td>False</td>\n",
       "    </tr>\n",
       "    <tr>\n",
       "      <th>8</th>\n",
       "      <td>26</td>\n",
       "      <td>77</td>\n",
       "      <td>12.0</td>\n",
       "      <td>12.0</td>\n",
       "      <td>2.0</td>\n",
       "      <td>2.0</td>\n",
       "      <td>6.0</td>\n",
       "      <td>2.0</td>\n",
       "      <td>-1.0</td>\n",
       "      <td>5.8</td>\n",
       "      <td>...</td>\n",
       "      <td>False</td>\n",
       "      <td>False</td>\n",
       "      <td>False</td>\n",
       "      <td>False</td>\n",
       "      <td>False</td>\n",
       "      <td>False</td>\n",
       "      <td>False</td>\n",
       "      <td>False</td>\n",
       "      <td>False</td>\n",
       "      <td>False</td>\n",
       "    </tr>\n",
       "  </tbody>\n",
       "</table>\n",
       "<p>5 rows × 311 columns</p>\n",
       "</div>"
      ]
     },
     "execution_count": 61,
     "metadata": {},
     "output_type": "execute_result"
    }
   ],
   "execution_count": 61
  },
  {
   "metadata": {
    "ExecuteTime": {
     "end_time": "2025-01-04T16:02:20.684559Z",
     "start_time": "2025-01-04T16:02:20.666406Z"
    }
   },
   "cell_type": "code",
   "source": "data.shape",
   "id": "97a5d593cf6e3a",
   "outputs": [
    {
     "data": {
      "text/plain": [
       "(515, 311)"
      ]
     },
     "execution_count": 62,
     "metadata": {},
     "output_type": "execute_result"
    }
   ],
   "execution_count": 62
  },
  {
   "metadata": {
    "ExecuteTime": {
     "end_time": "2025-01-04T16:02:20.823140Z",
     "start_time": "2025-01-04T16:02:20.815085Z"
    }
   },
   "cell_type": "code",
   "source": "data.info()",
   "id": "76d16a0f8eae66b6",
   "outputs": [
    {
     "name": "stdout",
     "output_type": "stream",
     "text": [
      "<class 'pandas.core.frame.DataFrame'>\n",
      "Index: 515 entries, 0 to 655\n",
      "Columns: 311 entries, Age to Match2_missed_match_Opposition_Wolves\n",
      "dtypes: bool(293), float64(15), int64(3)\n",
      "memory usage: 223.8 KB\n"
     ]
    }
   ],
   "execution_count": 63
  },
  {
   "metadata": {},
   "cell_type": "markdown",
   "source": "## Feature scaling",
   "id": "a30dc2c8fe76ce26"
  },
  {
   "metadata": {
    "ExecuteTime": {
     "end_time": "2025-01-04T16:02:20.835142Z",
     "start_time": "2025-01-04T16:02:20.828731Z"
    }
   },
   "cell_type": "code",
   "source": "# no scaling required",
   "id": "77cc49c908baf397",
   "outputs": [],
   "execution_count": 64
  },
  {
   "metadata": {},
   "cell_type": "markdown",
   "source": "## Dataset splitting",
   "id": "f825cb788297a894"
  },
  {
   "metadata": {
    "ExecuteTime": {
     "end_time": "2025-01-04T16:02:21.029471Z",
     "start_time": "2025-01-04T16:02:21.023155Z"
    }
   },
   "cell_type": "code",
   "source": [
    "from sklearn.model_selection import train_test_split\n",
    "\n",
    "target_column = 'Match1_after_injury_Result'\n",
    "\n",
    "x = data.drop(target_column, axis=1).fillna(0)\n",
    "y = data[target_column]\n",
    "\n",
    "x_train, x_test, y_train, y_test = train_test_split(x, y, test_size=0.3, random_state=42, stratify=y)"
   ],
   "id": "30150c091e2e4f81",
   "outputs": [],
   "execution_count": 65
  },
  {
   "metadata": {
    "ExecuteTime": {
     "end_time": "2025-01-04T16:02:21.112173Z",
     "start_time": "2025-01-04T16:02:21.104173Z"
    }
   },
   "cell_type": "code",
   "source": "x_train.info()",
   "id": "df83f03312c4eecd",
   "outputs": [
    {
     "name": "stdout",
     "output_type": "stream",
     "text": [
      "<class 'pandas.core.frame.DataFrame'>\n",
      "Index: 360 entries, 44 to 617\n",
      "Columns: 310 entries, Age to Match2_missed_match_Opposition_Wolves\n",
      "dtypes: bool(293), float64(15), int64(2)\n",
      "memory usage: 153.6 KB\n"
     ]
    }
   ],
   "execution_count": 66
  },
  {
   "metadata": {
    "ExecuteTime": {
     "end_time": "2025-01-04T16:02:21.207573Z",
     "start_time": "2025-01-04T16:02:21.197491Z"
    }
   },
   "cell_type": "code",
   "source": "x_test.info()",
   "id": "8bd59b7b8130df4c",
   "outputs": [
    {
     "name": "stdout",
     "output_type": "stream",
     "text": [
      "<class 'pandas.core.frame.DataFrame'>\n",
      "Index: 155 entries, 559 to 538\n",
      "Columns: 310 entries, Age to Match2_missed_match_Opposition_Wolves\n",
      "dtypes: bool(293), float64(15), int64(2)\n",
      "memory usage: 66.1 KB\n"
     ]
    }
   ],
   "execution_count": 67
  },
  {
   "metadata": {
    "ExecuteTime": {
     "end_time": "2025-01-04T16:02:21.220119Z",
     "start_time": "2025-01-04T16:02:21.215647Z"
    }
   },
   "cell_type": "code",
   "source": "y_train.info()",
   "id": "5cfb1275d7fada8a",
   "outputs": [
    {
     "name": "stdout",
     "output_type": "stream",
     "text": [
      "<class 'pandas.core.series.Series'>\n",
      "Index: 360 entries, 44 to 617\n",
      "Series name: Match1_after_injury_Result\n",
      "Non-Null Count  Dtype\n",
      "--------------  -----\n",
      "360 non-null    int64\n",
      "dtypes: int64(1)\n",
      "memory usage: 5.6 KB\n"
     ]
    }
   ],
   "execution_count": 68
  },
  {
   "metadata": {
    "ExecuteTime": {
     "end_time": "2025-01-04T16:02:21.268707Z",
     "start_time": "2025-01-04T16:02:21.264541Z"
    }
   },
   "cell_type": "code",
   "source": "y_test.info()",
   "id": "83e9732a1e3818bb",
   "outputs": [
    {
     "name": "stdout",
     "output_type": "stream",
     "text": [
      "<class 'pandas.core.series.Series'>\n",
      "Index: 155 entries, 559 to 538\n",
      "Series name: Match1_after_injury_Result\n",
      "Non-Null Count  Dtype\n",
      "--------------  -----\n",
      "155 non-null    int64\n",
      "dtypes: int64(1)\n",
      "memory usage: 2.4 KB\n"
     ]
    }
   ],
   "execution_count": 69
  },
  {
   "metadata": {},
   "cell_type": "markdown",
   "source": "## Model training & Testing",
   "id": "8315ec02f33e5cf2"
  },
  {
   "metadata": {},
   "cell_type": "markdown",
   "source": "### Decision Tree",
   "id": "54e505278c7ae984"
  },
  {
   "metadata": {
    "ExecuteTime": {
     "end_time": "2025-01-04T16:02:21.337779Z",
     "start_time": "2025-01-04T16:02:21.321628Z"
    }
   },
   "cell_type": "code",
   "source": [
    "from sklearn.tree import DecisionTreeClassifier\n",
    "\n",
    "model_decision_tree = DecisionTreeClassifier(random_state=42)\n",
    "model_decision_tree.fit(x_train, y_train)\n",
    "\n",
    "y_pred_Decision_Tree = model_decision_tree.predict(x_test)\n",
    "\n",
    "accuracy_Decision_Tree = model_decision_tree.score(x_test, y_test)\n",
    "accuracy_Decision_Tree = round(accuracy_Decision_Tree, 2)\n",
    "print(accuracy_Decision_Tree)"
   ],
   "id": "54510215414e455b",
   "outputs": [
    {
     "name": "stdout",
     "output_type": "stream",
     "text": [
      "0.42\n"
     ]
    }
   ],
   "execution_count": 70
  },
  {
   "metadata": {},
   "cell_type": "markdown",
   "source": "### Random Forest",
   "id": "bd55cb11ad2cc415"
  },
  {
   "metadata": {
    "ExecuteTime": {
     "end_time": "2025-01-04T16:02:21.465087Z",
     "start_time": "2025-01-04T16:02:21.353272Z"
    }
   },
   "cell_type": "code",
   "source": [
    "from sklearn.ensemble import RandomForestClassifier\n",
    "\n",
    "model_random_forest = RandomForestClassifier(random_state=42)\n",
    "model_random_forest.fit(x_train, y_train)\n",
    "\n",
    "y_pred_Random_Forest = model_random_forest.predict(x_test)\n",
    "\n",
    "accuracy_Random_Forest = model_random_forest.score(x_test, y_test)\n",
    "accuracy_Random_Forest = round(accuracy_Random_Forest, 2)\n",
    "print(accuracy_Random_Forest)"
   ],
   "id": "277d9988610a30d0",
   "outputs": [
    {
     "name": "stdout",
     "output_type": "stream",
     "text": [
      "0.5\n"
     ]
    }
   ],
   "execution_count": 71
  },
  {
   "metadata": {},
   "cell_type": "markdown",
   "source": "### Hist Gradient Boosting Classifier",
   "id": "f444b0b16f4ccfd0"
  },
  {
   "metadata": {
    "ExecuteTime": {
     "end_time": "2025-01-04T16:02:23.185539Z",
     "start_time": "2025-01-04T16:02:21.491173Z"
    }
   },
   "cell_type": "code",
   "source": [
    "from sklearn.ensemble import HistGradientBoostingClassifier\n",
    "\n",
    "model_HistGradientBoostingClassifier = HistGradientBoostingClassifier(random_state=42)\n",
    "model_HistGradientBoostingClassifier.fit(x_train, y_train)\n",
    "\n",
    "y_pred_HistGradientBoostingClassifier = model_HistGradientBoostingClassifier.predict(x_test)\n",
    "\n",
    "accuracy_HistGradientBoostingClassifier = model_HistGradientBoostingClassifier.score(x_test, y_test)\n",
    "accuracy_HistGradientBoostingClassifier = round(accuracy_HistGradientBoostingClassifier, 2)\n",
    "print(accuracy_HistGradientBoostingClassifier)"
   ],
   "id": "fd682d7f59c2dca5",
   "outputs": [
    {
     "name": "stdout",
     "output_type": "stream",
     "text": [
      "0.52\n"
     ]
    }
   ],
   "execution_count": 72
  },
  {
   "metadata": {},
   "cell_type": "markdown",
   "source": "### KNN",
   "id": "bf428f9d38c2608f"
  },
  {
   "metadata": {
    "ExecuteTime": {
     "end_time": "2025-01-04T16:02:23.254881Z",
     "start_time": "2025-01-04T16:02:23.222165Z"
    }
   },
   "cell_type": "code",
   "source": [
    "from sklearn.neighbors import KNeighborsClassifier\n",
    "\n",
    "modelKNeighborsClassifier = KNeighborsClassifier(n_neighbors=8)\n",
    "modelKNeighborsClassifier.fit(x_train, y_train)\n",
    "\n",
    "y_pred_KNeighborsClassifier = modelKNeighborsClassifier.predict(x_test)\n",
    "accuracy_KNeighborsClassifier = modelKNeighborsClassifier.score(x_test, y_test)\n",
    "accuracy_KNeighborsClassifier = round(accuracy_KNeighborsClassifier, 2)\n",
    "print(accuracy_KNeighborsClassifier)"
   ],
   "id": "10bcfdce42d244d5",
   "outputs": [
    {
     "name": "stdout",
     "output_type": "stream",
     "text": [
      "0.39\n"
     ]
    }
   ],
   "execution_count": 73
  },
  {
   "metadata": {},
   "cell_type": "markdown",
   "source": "### Tensorflow",
   "id": "4d8c39f27fed5ce9"
  },
  {
   "metadata": {
    "ExecuteTime": {
     "end_time": "2025-01-04T16:02:23.314037Z",
     "start_time": "2025-01-04T16:02:23.310980Z"
    }
   },
   "cell_type": "code",
   "source": "print(tf.__version__)",
   "id": "80f514e208274f92",
   "outputs": [
    {
     "name": "stdout",
     "output_type": "stream",
     "text": [
      "2.18.0\n"
     ]
    }
   ],
   "execution_count": 74
  },
  {
   "metadata": {
    "ExecuteTime": {
     "end_time": "2025-01-04T16:02:23.344446Z",
     "start_time": "2025-01-04T16:02:23.329041Z"
    }
   },
   "cell_type": "code",
   "source": [
    "num_classes = len(np.unique(y))\n",
    "\n",
    "if num_classes > 2:\n",
    "    y_train_NN = tf.keras.utils.to_categorical(y_train, num_classes)\n",
    "    y_test_NN = tf.keras.utils.to_categorical(y_test, num_classes)\n",
    "\n",
    "model = Sequential([\n",
    "    Input(shape=(x_train.shape[1],)),\n",
    "    Dense(64, activation='relu'),\n",
    "    Dense(32, activation='relu'),\n",
    "    Dense(num_classes, activation='softmax' if num_classes > 2 else 'sigmoid')\n",
    "])"
   ],
   "id": "b7a2f43d5a08e1f3",
   "outputs": [],
   "execution_count": 75
  },
  {
   "metadata": {
    "ExecuteTime": {
     "end_time": "2025-01-04T16:02:23.374193Z",
     "start_time": "2025-01-04T16:02:23.369517Z"
    }
   },
   "cell_type": "code",
   "source": [
    "model.compile(\n",
    "    optimizer='adam',\n",
    "    loss='categorical_crossentropy' if num_classes > 2 else 'binary_crossentropy',\n",
    "    metrics=['accuracy']\n",
    ")"
   ],
   "id": "9f1ed6a53523d9c",
   "outputs": [],
   "execution_count": 76
  },
  {
   "metadata": {
    "ExecuteTime": {
     "end_time": "2025-01-04T16:02:26.765377Z",
     "start_time": "2025-01-04T16:02:23.399764Z"
    }
   },
   "cell_type": "code",
   "source": [
    "history = model.fit(\n",
    "    x_train,\n",
    "    y_train_NN,\n",
    "    epochs=50,\n",
    "    batch_size=32,\n",
    "    validation_split=0.3\n",
    ")"
   ],
   "id": "d4535a59db4ba6a5",
   "outputs": [
    {
     "name": "stdout",
     "output_type": "stream",
     "text": [
      "Epoch 1/50\n",
      "\u001B[1m8/8\u001B[0m \u001B[32m━━━━━━━━━━━━━━━━━━━━\u001B[0m\u001B[37m\u001B[0m \u001B[1m1s\u001B[0m 18ms/step - accuracy: 0.4256 - loss: 3.9210 - val_accuracy: 0.3211 - val_loss: 2.4039\n",
      "Epoch 2/50\n",
      "\u001B[1m8/8\u001B[0m \u001B[32m━━━━━━━━━━━━━━━━━━━━\u001B[0m\u001B[37m\u001B[0m \u001B[1m0s\u001B[0m 4ms/step - accuracy: 0.3709 - loss: 1.5629 - val_accuracy: 0.2752 - val_loss: 1.2911\n",
      "Epoch 3/50\n",
      "\u001B[1m8/8\u001B[0m \u001B[32m━━━━━━━━━━━━━━━━━━━━\u001B[0m\u001B[37m\u001B[0m \u001B[1m0s\u001B[0m 7ms/step - accuracy: 0.4236 - loss: 1.2771 - val_accuracy: 0.3945 - val_loss: 1.2674\n",
      "Epoch 4/50\n",
      "\u001B[1m8/8\u001B[0m \u001B[32m━━━━━━━━━━━━━━━━━━━━\u001B[0m\u001B[37m\u001B[0m \u001B[1m0s\u001B[0m 7ms/step - accuracy: 0.4460 - loss: 1.0658 - val_accuracy: 0.3119 - val_loss: 1.2777\n",
      "Epoch 5/50\n",
      "\u001B[1m8/8\u001B[0m \u001B[32m━━━━━━━━━━━━━━━━━━━━\u001B[0m\u001B[37m\u001B[0m \u001B[1m0s\u001B[0m 7ms/step - accuracy: 0.3772 - loss: 1.1046 - val_accuracy: 0.3578 - val_loss: 1.1559\n",
      "Epoch 6/50\n",
      "\u001B[1m8/8\u001B[0m \u001B[32m━━━━━━━━━━━━━━━━━━━━\u001B[0m\u001B[37m\u001B[0m \u001B[1m0s\u001B[0m 7ms/step - accuracy: 0.4530 - loss: 1.0320 - val_accuracy: 0.3486 - val_loss: 1.1368\n",
      "Epoch 7/50\n",
      "\u001B[1m8/8\u001B[0m \u001B[32m━━━━━━━━━━━━━━━━━━━━\u001B[0m\u001B[37m\u001B[0m \u001B[1m0s\u001B[0m 7ms/step - accuracy: 0.5562 - loss: 0.9668 - val_accuracy: 0.3486 - val_loss: 1.1695\n",
      "Epoch 8/50\n",
      "\u001B[1m8/8\u001B[0m \u001B[32m━━━━━━━━━━━━━━━━━━━━\u001B[0m\u001B[37m\u001B[0m \u001B[1m0s\u001B[0m 7ms/step - accuracy: 0.6136 - loss: 0.9372 - val_accuracy: 0.3578 - val_loss: 1.1352\n",
      "Epoch 9/50\n",
      "\u001B[1m8/8\u001B[0m \u001B[32m━━━━━━━━━━━━━━━━━━━━\u001B[0m\u001B[37m\u001B[0m \u001B[1m0s\u001B[0m 5ms/step - accuracy: 0.6209 - loss: 0.9442 - val_accuracy: 0.3394 - val_loss: 1.1543\n",
      "Epoch 10/50\n",
      "\u001B[1m8/8\u001B[0m \u001B[32m━━━━━━━━━━━━━━━━━━━━\u001B[0m\u001B[37m\u001B[0m \u001B[1m0s\u001B[0m 5ms/step - accuracy: 0.5891 - loss: 0.9260 - val_accuracy: 0.3670 - val_loss: 1.1461\n",
      "Epoch 11/50\n",
      "\u001B[1m8/8\u001B[0m \u001B[32m━━━━━━━━━━━━━━━━━━━━\u001B[0m\u001B[37m\u001B[0m \u001B[1m0s\u001B[0m 7ms/step - accuracy: 0.6596 - loss: 0.9007 - val_accuracy: 0.3394 - val_loss: 1.1391\n",
      "Epoch 12/50\n",
      "\u001B[1m8/8\u001B[0m \u001B[32m━━━━━━━━━━━━━━━━━━━━\u001B[0m\u001B[37m\u001B[0m \u001B[1m0s\u001B[0m 7ms/step - accuracy: 0.6438 - loss: 0.9163 - val_accuracy: 0.3394 - val_loss: 1.1727\n",
      "Epoch 13/50\n",
      "\u001B[1m8/8\u001B[0m \u001B[32m━━━━━━━━━━━━━━━━━━━━\u001B[0m\u001B[37m\u001B[0m \u001B[1m0s\u001B[0m 7ms/step - accuracy: 0.6274 - loss: 0.8740 - val_accuracy: 0.4037 - val_loss: 1.1384\n",
      "Epoch 14/50\n",
      "\u001B[1m8/8\u001B[0m \u001B[32m━━━━━━━━━━━━━━━━━━━━\u001B[0m\u001B[37m\u001B[0m \u001B[1m0s\u001B[0m 5ms/step - accuracy: 0.6764 - loss: 0.8515 - val_accuracy: 0.3394 - val_loss: 1.1423\n",
      "Epoch 15/50\n",
      "\u001B[1m8/8\u001B[0m \u001B[32m━━━━━━━━━━━━━━━━━━━━\u001B[0m\u001B[37m\u001B[0m \u001B[1m0s\u001B[0m 5ms/step - accuracy: 0.7006 - loss: 0.8476 - val_accuracy: 0.3670 - val_loss: 1.1631\n",
      "Epoch 16/50\n",
      "\u001B[1m8/8\u001B[0m \u001B[32m━━━━━━━━━━━━━━━━━━━━\u001B[0m\u001B[37m\u001B[0m \u001B[1m0s\u001B[0m 7ms/step - accuracy: 0.7282 - loss: 0.8224 - val_accuracy: 0.3394 - val_loss: 1.1531\n",
      "Epoch 17/50\n",
      "\u001B[1m8/8\u001B[0m \u001B[32m━━━━━━━━━━━━━━━━━━━━\u001B[0m\u001B[37m\u001B[0m \u001B[1m0s\u001B[0m 5ms/step - accuracy: 0.6986 - loss: 0.8130 - val_accuracy: 0.3486 - val_loss: 1.1465\n",
      "Epoch 18/50\n",
      "\u001B[1m8/8\u001B[0m \u001B[32m━━━━━━━━━━━━━━━━━━━━\u001B[0m\u001B[37m\u001B[0m \u001B[1m0s\u001B[0m 7ms/step - accuracy: 0.7213 - loss: 0.8159 - val_accuracy: 0.3761 - val_loss: 1.1868\n",
      "Epoch 19/50\n",
      "\u001B[1m8/8\u001B[0m \u001B[32m━━━━━━━━━━━━━━━━━━━━\u001B[0m\u001B[37m\u001B[0m \u001B[1m0s\u001B[0m 5ms/step - accuracy: 0.6853 - loss: 0.8055 - val_accuracy: 0.3578 - val_loss: 1.1463\n",
      "Epoch 20/50\n",
      "\u001B[1m8/8\u001B[0m \u001B[32m━━━━━━━━━━━━━━━━━━━━\u001B[0m\u001B[37m\u001B[0m \u001B[1m0s\u001B[0m 7ms/step - accuracy: 0.7662 - loss: 0.7725 - val_accuracy: 0.3853 - val_loss: 1.1885\n",
      "Epoch 21/50\n",
      "\u001B[1m8/8\u001B[0m \u001B[32m━━━━━━━━━━━━━━━━━━━━\u001B[0m\u001B[37m\u001B[0m \u001B[1m0s\u001B[0m 7ms/step - accuracy: 0.7623 - loss: 0.7526 - val_accuracy: 0.3761 - val_loss: 1.1541\n",
      "Epoch 22/50\n",
      "\u001B[1m8/8\u001B[0m \u001B[32m━━━━━━━━━━━━━━━━━━━━\u001B[0m\u001B[37m\u001B[0m \u001B[1m0s\u001B[0m 5ms/step - accuracy: 0.7573 - loss: 0.7401 - val_accuracy: 0.3945 - val_loss: 1.1749\n",
      "Epoch 23/50\n",
      "\u001B[1m8/8\u001B[0m \u001B[32m━━━━━━━━━━━━━━━━━━━━\u001B[0m\u001B[37m\u001B[0m \u001B[1m0s\u001B[0m 7ms/step - accuracy: 0.7905 - loss: 0.6971 - val_accuracy: 0.3578 - val_loss: 1.1655\n",
      "Epoch 24/50\n",
      "\u001B[1m8/8\u001B[0m \u001B[32m━━━━━━━━━━━━━━━━━━━━\u001B[0m\u001B[37m\u001B[0m \u001B[1m0s\u001B[0m 7ms/step - accuracy: 0.8071 - loss: 0.7161 - val_accuracy: 0.3853 - val_loss: 1.2201\n",
      "Epoch 25/50\n",
      "\u001B[1m8/8\u001B[0m \u001B[32m━━━━━━━━━━━━━━━━━━━━\u001B[0m\u001B[37m\u001B[0m \u001B[1m0s\u001B[0m 5ms/step - accuracy: 0.7571 - loss: 0.7159 - val_accuracy: 0.3945 - val_loss: 1.1840\n",
      "Epoch 26/50\n",
      "\u001B[1m8/8\u001B[0m \u001B[32m━━━━━━━━━━━━━━━━━━━━\u001B[0m\u001B[37m\u001B[0m \u001B[1m0s\u001B[0m 7ms/step - accuracy: 0.7877 - loss: 0.6607 - val_accuracy: 0.3670 - val_loss: 1.1735\n",
      "Epoch 27/50\n",
      "\u001B[1m8/8\u001B[0m \u001B[32m━━━━━━━━━━━━━━━━━━━━\u001B[0m\u001B[37m\u001B[0m \u001B[1m0s\u001B[0m 7ms/step - accuracy: 0.8267 - loss: 0.6414 - val_accuracy: 0.3853 - val_loss: 1.1778\n",
      "Epoch 28/50\n",
      "\u001B[1m8/8\u001B[0m \u001B[32m━━━━━━━━━━━━━━━━━━━━\u001B[0m\u001B[37m\u001B[0m \u001B[1m0s\u001B[0m 4ms/step - accuracy: 0.8189 - loss: 0.6403 - val_accuracy: 0.3945 - val_loss: 1.2096\n",
      "Epoch 29/50\n",
      "\u001B[1m8/8\u001B[0m \u001B[32m━━━━━━━━━━━━━━━━━━━━\u001B[0m\u001B[37m\u001B[0m \u001B[1m0s\u001B[0m 7ms/step - accuracy: 0.7989 - loss: 0.6312 - val_accuracy: 0.3578 - val_loss: 1.1876\n",
      "Epoch 30/50\n",
      "\u001B[1m8/8\u001B[0m \u001B[32m━━━━━━━━━━━━━━━━━━━━\u001B[0m\u001B[37m\u001B[0m \u001B[1m0s\u001B[0m 5ms/step - accuracy: 0.8229 - loss: 0.6150 - val_accuracy: 0.3578 - val_loss: 1.1995\n",
      "Epoch 31/50\n",
      "\u001B[1m8/8\u001B[0m \u001B[32m━━━━━━━━━━━━━━━━━━━━\u001B[0m\u001B[37m\u001B[0m \u001B[1m0s\u001B[0m 7ms/step - accuracy: 0.8447 - loss: 0.6075 - val_accuracy: 0.3761 - val_loss: 1.2228\n",
      "Epoch 32/50\n",
      "\u001B[1m8/8\u001B[0m \u001B[32m━━━━━━━━━━━━━━━━━━━━\u001B[0m\u001B[37m\u001B[0m \u001B[1m0s\u001B[0m 5ms/step - accuracy: 0.8517 - loss: 0.5690 - val_accuracy: 0.3761 - val_loss: 1.2030\n",
      "Epoch 33/50\n",
      "\u001B[1m8/8\u001B[0m \u001B[32m━━━━━━━━━━━━━━━━━━━━\u001B[0m\u001B[37m\u001B[0m \u001B[1m0s\u001B[0m 7ms/step - accuracy: 0.8769 - loss: 0.5736 - val_accuracy: 0.3945 - val_loss: 1.2439\n",
      "Epoch 34/50\n",
      "\u001B[1m8/8\u001B[0m \u001B[32m━━━━━━━━━━━━━━━━━━━━\u001B[0m\u001B[37m\u001B[0m \u001B[1m0s\u001B[0m 5ms/step - accuracy: 0.8595 - loss: 0.5585 - val_accuracy: 0.3578 - val_loss: 1.2142\n",
      "Epoch 35/50\n",
      "\u001B[1m8/8\u001B[0m \u001B[32m━━━━━━━━━━━━━━━━━━━━\u001B[0m\u001B[37m\u001B[0m \u001B[1m0s\u001B[0m 5ms/step - accuracy: 0.8898 - loss: 0.5141 - val_accuracy: 0.3761 - val_loss: 1.2308\n",
      "Epoch 36/50\n",
      "\u001B[1m8/8\u001B[0m \u001B[32m━━━━━━━━━━━━━━━━━━━━\u001B[0m\u001B[37m\u001B[0m \u001B[1m0s\u001B[0m 7ms/step - accuracy: 0.8995 - loss: 0.4940 - val_accuracy: 0.3853 - val_loss: 1.2421\n",
      "Epoch 37/50\n",
      "\u001B[1m8/8\u001B[0m \u001B[32m━━━━━━━━━━━━━━━━━━━━\u001B[0m\u001B[37m\u001B[0m \u001B[1m0s\u001B[0m 7ms/step - accuracy: 0.8887 - loss: 0.4690 - val_accuracy: 0.3761 - val_loss: 1.2378\n",
      "Epoch 38/50\n",
      "\u001B[1m8/8\u001B[0m \u001B[32m━━━━━━━━━━━━━━━━━━━━\u001B[0m\u001B[37m\u001B[0m \u001B[1m0s\u001B[0m 5ms/step - accuracy: 0.8442 - loss: 0.5288 - val_accuracy: 0.3761 - val_loss: 1.2561\n",
      "Epoch 39/50\n",
      "\u001B[1m8/8\u001B[0m \u001B[32m━━━━━━━━━━━━━━━━━━━━\u001B[0m\u001B[37m\u001B[0m \u001B[1m0s\u001B[0m 7ms/step - accuracy: 0.9115 - loss: 0.4762 - val_accuracy: 0.3853 - val_loss: 1.3031\n",
      "Epoch 40/50\n",
      "\u001B[1m8/8\u001B[0m \u001B[32m━━━━━━━━━━━━━━━━━━━━\u001B[0m\u001B[37m\u001B[0m \u001B[1m0s\u001B[0m 8ms/step - accuracy: 0.8932 - loss: 0.4650 - val_accuracy: 0.3945 - val_loss: 1.2721\n",
      "Epoch 41/50\n",
      "\u001B[1m8/8\u001B[0m \u001B[32m━━━━━━━━━━━━━━━━━━━━\u001B[0m\u001B[37m\u001B[0m \u001B[1m0s\u001B[0m 4ms/step - accuracy: 0.9355 - loss: 0.4200 - val_accuracy: 0.3578 - val_loss: 1.2815\n",
      "Epoch 42/50\n",
      "\u001B[1m8/8\u001B[0m \u001B[32m━━━━━━━━━━━━━━━━━━━━\u001B[0m\u001B[37m\u001B[0m \u001B[1m0s\u001B[0m 7ms/step - accuracy: 0.9200 - loss: 0.4257 - val_accuracy: 0.3945 - val_loss: 1.3038\n",
      "Epoch 43/50\n",
      "\u001B[1m8/8\u001B[0m \u001B[32m━━━━━━━━━━━━━━━━━━━━\u001B[0m\u001B[37m\u001B[0m \u001B[1m0s\u001B[0m 7ms/step - accuracy: 0.9278 - loss: 0.3896 - val_accuracy: 0.3853 - val_loss: 1.2796\n",
      "Epoch 44/50\n",
      "\u001B[1m8/8\u001B[0m \u001B[32m━━━━━━━━━━━━━━━━━━━━\u001B[0m\u001B[37m\u001B[0m \u001B[1m0s\u001B[0m 5ms/step - accuracy: 0.8978 - loss: 0.4162 - val_accuracy: 0.4128 - val_loss: 1.3337\n",
      "Epoch 45/50\n",
      "\u001B[1m8/8\u001B[0m \u001B[32m━━━━━━━━━━━━━━━━━━━━\u001B[0m\u001B[37m\u001B[0m \u001B[1m0s\u001B[0m 5ms/step - accuracy: 0.9090 - loss: 0.3920 - val_accuracy: 0.3853 - val_loss: 1.3128\n",
      "Epoch 46/50\n",
      "\u001B[1m8/8\u001B[0m \u001B[32m━━━━━━━━━━━━━━━━━━━━\u001B[0m\u001B[37m\u001B[0m \u001B[1m0s\u001B[0m 5ms/step - accuracy: 0.9428 - loss: 0.3519 - val_accuracy: 0.4037 - val_loss: 1.3322\n",
      "Epoch 47/50\n",
      "\u001B[1m8/8\u001B[0m \u001B[32m━━━━━━━━━━━━━━━━━━━━\u001B[0m\u001B[37m\u001B[0m \u001B[1m0s\u001B[0m 7ms/step - accuracy: 0.9466 - loss: 0.3274 - val_accuracy: 0.4128 - val_loss: 1.3353\n",
      "Epoch 48/50\n",
      "\u001B[1m8/8\u001B[0m \u001B[32m━━━━━━━━━━━━━━━━━━━━\u001B[0m\u001B[37m\u001B[0m \u001B[1m0s\u001B[0m 5ms/step - accuracy: 0.9324 - loss: 0.3450 - val_accuracy: 0.3486 - val_loss: 1.3881\n",
      "Epoch 49/50\n",
      "\u001B[1m8/8\u001B[0m \u001B[32m━━━━━━━━━━━━━━━━━━━━\u001B[0m\u001B[37m\u001B[0m \u001B[1m0s\u001B[0m 5ms/step - accuracy: 0.9305 - loss: 0.3461 - val_accuracy: 0.3853 - val_loss: 1.3442\n",
      "Epoch 50/50\n",
      "\u001B[1m8/8\u001B[0m \u001B[32m━━━━━━━━━━━━━━━━━━━━\u001B[0m\u001B[37m\u001B[0m \u001B[1m0s\u001B[0m 7ms/step - accuracy: 0.9383 - loss: 0.3106 - val_accuracy: 0.3761 - val_loss: 1.4042\n"
     ]
    }
   ],
   "execution_count": 77
  },
  {
   "metadata": {
    "ExecuteTime": {
     "end_time": "2025-01-04T16:02:26.844362Z",
     "start_time": "2025-01-04T16:02:26.792499Z"
    }
   },
   "cell_type": "code",
   "source": [
    "test_loss, test_accuracy_NN = model.evaluate(x_test, y_test_NN)\n",
    "test_accuracy_NN = round(test_accuracy_NN, 2)\n",
    "print(f\"Test Accuracy: {test_accuracy_NN}\")"
   ],
   "id": "a9db576a69a4722b",
   "outputs": [
    {
     "name": "stdout",
     "output_type": "stream",
     "text": [
      "\u001B[1m5/5\u001B[0m \u001B[32m━━━━━━━━━━━━━━━━━━━━\u001B[0m\u001B[37m\u001B[0m \u001B[1m0s\u001B[0m 4ms/step - accuracy: 0.4708 - loss: 1.2395 \n",
      "Test Accuracy: 0.47\n"
     ]
    }
   ],
   "execution_count": 78
  },
  {
   "metadata": {
    "ExecuteTime": {
     "end_time": "2025-01-04T16:02:26.940223Z",
     "start_time": "2025-01-04T16:02:26.869783Z"
    }
   },
   "cell_type": "code",
   "source": "y_pred_NN = model.predict(x_test)",
   "id": "d9aa34612b10f292",
   "outputs": [
    {
     "name": "stdout",
     "output_type": "stream",
     "text": [
      "\u001B[1m5/5\u001B[0m \u001B[32m━━━━━━━━━━━━━━━━━━━━\u001B[0m\u001B[37m\u001B[0m \u001B[1m0s\u001B[0m 6ms/step \n"
     ]
    }
   ],
   "execution_count": 79
  },
  {
   "metadata": {
    "ExecuteTime": {
     "end_time": "2025-01-04T16:02:27.119854Z",
     "start_time": "2025-01-04T16:02:26.965184Z"
    }
   },
   "cell_type": "code",
   "source": [
    "import matplotlib.pyplot as plt\n",
    "\n",
    "plt.plot(history.history['accuracy'], label='Train Accuracy')\n",
    "plt.plot(history.history['val_accuracy'], label='Validation Accuracy')\n",
    "plt.xlabel('Epochs')\n",
    "plt.ylabel('Accuracy')\n",
    "plt.legend()\n",
    "plt.title('Model Accuracy')\n",
    "plt.show()\n",
    "\n",
    "plt.plot(history.history['loss'], label='Train Loss')\n",
    "plt.plot(history.history['val_loss'], label='Validation Loss')\n",
    "plt.xlabel('Epochs')\n",
    "plt.ylabel('Loss')\n",
    "plt.legend()\n",
    "plt.title('Model Loss')\n",
    "plt.show()"
   ],
   "id": "45412438b1328b02",
   "outputs": [
    {
     "data": {
      "text/plain": [
       "<Figure size 640x480 with 1 Axes>"
      ],
      "image/png": "[encoded data removed]"
     },
     "metadata": {},
     "output_type": "display_data"
    },
    {
     "data": {
      "text/plain": [
       "<Figure size 640x480 with 1 Axes>"
      ],
      "image/png": "[encoded data removed]"
     },
     "metadata": {},
     "output_type": "display_data"
    }
   ],
   "execution_count": 80
  },
  {
   "metadata": {},
   "cell_type": "markdown",
   "source": "## Model selection/Comparison analysis",
   "id": "e32b808b7ad50e72"
  },
  {
   "metadata": {},
   "cell_type": "markdown",
   "source": "### Prediction accuracy of all models",
   "id": "954987571f2c4ef5"
  },
  {
   "metadata": {
    "ExecuteTime": {
     "end_time": "2025-01-04T16:02:27.211155Z",
     "start_time": "2025-01-04T16:02:27.148054Z"
    }
   },
   "cell_type": "code",
   "source": [
    "models = ['Decision\\nTree', 'Random\\nForest', 'KNN', 'Hist\\nGradient\\nBoosting', 'Neural\\nNetwork']\n",
    "accuracies = [accuracy_Decision_Tree, accuracy_Random_Forest, accuracy_KNeighborsClassifier,\n",
    "              accuracy_HistGradientBoostingClassifier, test_accuracy_NN]\n",
    "\n",
    "plt.bar(models, accuracies, tick_label=models)\n",
    "plt.title('Model Accuracy')\n",
    "plt.xlabel('Model')\n",
    "plt.ylabel('Accuracy')\n",
    "plt.show()"
   ],
   "id": "b90d414832bafda2",
   "outputs": [
    {
     "data": {
      "text/plain": [
       "<Figure size 640x480 with 1 Axes>"
      ],
      "image/png": "[encoded data removed]"
     },
     "metadata": {},
     "output_type": "display_data"
    }
   ],
   "execution_count": 81
  },
  {
   "metadata": {},
   "cell_type": "markdown",
   "source": "### Precision, recall comparison",
   "id": "fc3924ffe25df4a5"
  },
  {
   "metadata": {},
   "cell_type": "markdown",
   "source": "#### Decision Tree",
   "id": "362ab74cb800b33e"
  },
  {
   "metadata": {
    "ExecuteTime": {
     "end_time": "2025-01-04T16:02:27.244622Z",
     "start_time": "2025-01-04T16:02:27.238619Z"
    }
   },
   "cell_type": "code",
   "source": [
    "report_decision_tree = classification_report(y_test, y_pred_Decision_Tree)\n",
    "print(report_decision_tree)"
   ],
   "id": "6079d5feed5e961f",
   "outputs": [
    {
     "name": "stdout",
     "output_type": "stream",
     "text": [
      "              precision    recall  f1-score   support\n",
      "\n",
      "           0       0.39      0.45      0.42        53\n",
      "           1       0.35      0.29      0.32        38\n",
      "           2       0.48      0.47      0.48        64\n",
      "\n",
      "    accuracy                           0.42       155\n",
      "   macro avg       0.41      0.40      0.40       155\n",
      "weighted avg       0.42      0.42      0.42       155\n",
      "\n"
     ]
    }
   ],
   "execution_count": 82
  },
  {
   "metadata": {},
   "cell_type": "markdown",
   "source": "#### Random Forest",
   "id": "242f8d14cf903852"
  },
  {
   "metadata": {
    "ExecuteTime": {
     "end_time": "2025-01-04T16:02:27.276796Z",
     "start_time": "2025-01-04T16:02:27.270353Z"
    }
   },
   "cell_type": "code",
   "source": [
    "report_random_forest = classification_report(y_test, y_pred_Random_Forest)\n",
    "print(report_random_forest)"
   ],
   "id": "e6080875f3d883cb",
   "outputs": [
    {
     "name": "stdout",
     "output_type": "stream",
     "text": [
      "              precision    recall  f1-score   support\n",
      "\n",
      "           0       0.49      0.49      0.49        53\n",
      "           1       0.67      0.16      0.26        38\n",
      "           2       0.49      0.72      0.59        64\n",
      "\n",
      "    accuracy                           0.50       155\n",
      "   macro avg       0.55      0.46      0.44       155\n",
      "weighted avg       0.54      0.50      0.47       155\n",
      "\n"
     ]
    }
   ],
   "execution_count": 83
  },
  {
   "metadata": {},
   "cell_type": "markdown",
   "source": "#### KNN",
   "id": "ff7c24b10b1fa4c0"
  },
  {
   "metadata": {
    "ExecuteTime": {
     "end_time": "2025-01-04T16:02:27.308881Z",
     "start_time": "2025-01-04T16:02:27.302106Z"
    }
   },
   "cell_type": "code",
   "source": [
    "report_KNeighborsClassifier = classification_report(y_test, y_pred_KNeighborsClassifier)\n",
    "print(report_KNeighborsClassifier)"
   ],
   "id": "55855bc253a91364",
   "outputs": [
    {
     "name": "stdout",
     "output_type": "stream",
     "text": [
      "              precision    recall  f1-score   support\n",
      "\n",
      "           0       0.38      0.58      0.46        53\n",
      "           1       0.35      0.18      0.24        38\n",
      "           2       0.43      0.36      0.39        64\n",
      "\n",
      "    accuracy                           0.39       155\n",
      "   macro avg       0.39      0.38      0.36       155\n",
      "weighted avg       0.39      0.39      0.38       155\n",
      "\n"
     ]
    }
   ],
   "execution_count": 84
  },
  {
   "metadata": {},
   "cell_type": "markdown",
   "source": "#### Hist Gradient Boosting",
   "id": "c3f6002d7d932bbe"
  },
  {
   "metadata": {
    "ExecuteTime": {
     "end_time": "2025-01-04T16:02:27.367467Z",
     "start_time": "2025-01-04T16:02:27.360215Z"
    }
   },
   "cell_type": "code",
   "source": [
    "report_HistGradientBoostingClassifier = classification_report(y_test, y_pred_HistGradientBoostingClassifier)\n",
    "print(report_HistGradientBoostingClassifier)"
   ],
   "id": "631e2564f6cf3667",
   "outputs": [
    {
     "name": "stdout",
     "output_type": "stream",
     "text": [
      "              precision    recall  f1-score   support\n",
      "\n",
      "           0       0.48      0.51      0.50        53\n",
      "           1       0.48      0.39      0.43        38\n",
      "           2       0.56      0.59      0.58        64\n",
      "\n",
      "    accuracy                           0.52       155\n",
      "   macro avg       0.51      0.50      0.50       155\n",
      "weighted avg       0.51      0.52      0.51       155\n",
      "\n"
     ]
    }
   ],
   "execution_count": 85
  },
  {
   "metadata": {},
   "cell_type": "markdown",
   "source": "#### Neural Network",
   "id": "642adc31959a24a3"
  },
  {
   "metadata": {
    "ExecuteTime": {
     "end_time": "2025-01-04T16:02:27.438811Z",
     "start_time": "2025-01-04T16:02:27.382762Z"
    }
   },
   "cell_type": "code",
   "source": [
    "y_pred_prob = model.predict(x_test)\n",
    "if num_classes > 2:\n",
    "    y_pred_class = np.argmax(y_pred_prob, axis=1)\n",
    "    y_test_class = np.argmax(y_test_NN, axis=1)\n",
    "else:\n",
    "    y_pred_class = (y_pred_prob > 0.5).astype(int).flatten()\n",
    "    y_test_class = y_test.flatten()\n",
    "\n",
    "report_NN = classification_report(y_test_class, y_pred_class)\n",
    "print(report)\n"
   ],
   "id": "1acbef20515d190d",
   "outputs": [
    {
     "name": "stdout",
     "output_type": "stream",
     "text": [
      "\u001B[1m5/5\u001B[0m \u001B[32m━━━━━━━━━━━━━━━━━━━━\u001B[0m\u001B[37m\u001B[0m \u001B[1m0s\u001B[0m 2ms/step\n"
     ]
    },
    {
     "ename": "NameError",
     "evalue": "name 'report' is not defined",
     "output_type": "error",
     "traceback": [
      "\u001B[1;31m---------------------------------------------------------------------------\u001B[0m",
      "\u001B[1;31mNameError\u001B[0m                                 Traceback (most recent call last)",
      "Cell \u001B[1;32mIn[86], line 10\u001B[0m\n\u001B[0;32m      7\u001B[0m     y_test_class \u001B[38;5;241m=\u001B[39m y_test\u001B[38;5;241m.\u001B[39mflatten()\n\u001B[0;32m      9\u001B[0m report_NN \u001B[38;5;241m=\u001B[39m classification_report(y_test_class, y_pred_class)\n\u001B[1;32m---> 10\u001B[0m \u001B[38;5;28mprint\u001B[39m(report)\n",
      "\u001B[1;31mNameError\u001B[0m: name 'report' is not defined"
     ]
    }
   ],
   "execution_count": 86
  },
  {
   "metadata": {},
   "cell_type": "markdown",
   "source": "### Confusion Matrix",
   "id": "fca62069f722f33b"
  },
  {
   "metadata": {},
   "cell_type": "markdown",
   "source": "#### Decision Tree",
   "id": "a0f18b490c0f66d0"
  },
  {
   "metadata": {
    "ExecuteTime": {
     "end_time": "2025-01-04T16:02:27.446317600Z",
     "start_time": "2025-01-04T15:51:27.866302Z"
    }
   },
   "cell_type": "code",
   "source": [
    "conf_matrix_decision_tree = confusion_matrix(y_test, y_pred_Decision_Tree)\n",
    "\n",
    "plt.figure(figsize=(4, 3))\n",
    "sns.heatmap(conf_matrix_decision_tree, annot=True, fmt='d', cmap='Blues', xticklabels=np.unique(y_test),\n",
    "            yticklabels=np.unique(y_test))\n",
    "plt.xlabel('Predicted Label')\n",
    "plt.ylabel('True Label')\n",
    "plt.title('Confusion Matrix')\n",
    "plt.show()"
   ],
   "id": "e00eaa95de2be8f9",
   "outputs": [
    {
     "data": {
      "text/plain": [
       "<Figure size 400x300 with 2 Axes>"
      ],
      "image/png": "[encoded data removed]"
     },
     "metadata": {},
     "output_type": "display_data"
    }
   ],
   "execution_count": 1585
  },
  {
   "metadata": {},
   "cell_type": "markdown",
   "source": "#### Random Forest",
   "id": "5a3879209aa74b4f"
  },
  {
   "metadata": {
    "ExecuteTime": {
     "end_time": "2025-01-04T16:02:27.446317600Z",
     "start_time": "2025-01-04T15:51:27.976823Z"
    }
   },
   "cell_type": "code",
   "source": [
    "conf_matrix_random_forest = confusion_matrix(y_test, y_pred_Random_Forest)\n",
    "\n",
    "plt.figure(figsize=(4, 3))\n",
    "sns.heatmap(conf_matrix_random_forest, annot=True, fmt='d', cmap='Blues', xticklabels=np.unique(y_test),\n",
    "            yticklabels=np.unique(y_test))\n",
    "plt.xlabel('Predicted Label')\n",
    "plt.ylabel('True Label')\n",
    "plt.title('Confusion Matrix')\n",
    "plt.show()"
   ],
   "id": "ece3bf953699f9a2",
   "outputs": [
    {
     "data": {
      "text/plain": [
       "<Figure size 400x300 with 2 Axes>"
      ],
      "image/png": "[encoded data removed]"
     },
     "metadata": {},
     "output_type": "display_data"
    }
   ],
   "execution_count": 1586
  },
  {
   "metadata": {},
   "cell_type": "markdown",
   "source": "#### KNN",
   "id": "5c84ff96db6c6e76"
  },
  {
   "metadata": {
    "ExecuteTime": {
     "end_time": "2025-01-04T16:02:27.446317600Z",
     "start_time": "2025-01-04T15:51:28.081141Z"
    }
   },
   "cell_type": "code",
   "source": [
    "conf_matrix_KNeighborsClassifier = confusion_matrix(y_test, y_pred_KNeighborsClassifier)\n",
    "\n",
    "plt.figure(figsize=(4, 3))\n",
    "sns.heatmap(conf_matrix_KNeighborsClassifier, annot=True, fmt='d', cmap='Blues', xticklabels=np.unique(y_test),\n",
    "            yticklabels=np.unique(y_test))\n",
    "plt.xlabel('Predicted Label')\n",
    "plt.ylabel('True Label')\n",
    "plt.title('Confusion Matrix')\n",
    "plt.show()"
   ],
   "id": "bfe87005fe4867c5",
   "outputs": [
    {
     "data": {
      "text/plain": [
       "<Figure size 400x300 with 2 Axes>"
      ],
      "image/png": "[encoded data removed]"
     },
     "metadata": {},
     "output_type": "display_data"
    }
   ],
   "execution_count": 1587
  },
  {
   "metadata": {},
   "cell_type": "markdown",
   "source": "#### Hist Gradient Boosting",
   "id": "242a1bd604d63675"
  },
  {
   "metadata": {
    "ExecuteTime": {
     "end_time": "2025-01-04T16:02:27.446317600Z",
     "start_time": "2025-01-04T15:51:28.186856Z"
    }
   },
   "cell_type": "code",
   "source": [
    "conf_matrix_hist_gradient_boosting = confusion_matrix(y_test, y_pred_HistGradientBoostingClassifier)\n",
    "\n",
    "plt.figure(figsize=(4, 3))\n",
    "sns.heatmap(conf_matrix_hist_gradient_boosting, annot=True, fmt='d', cmap='Blues', xticklabels=np.unique(y_test),\n",
    "            yticklabels=np.unique(y_test))\n",
    "plt.xlabel('Predicted Label')\n",
    "plt.ylabel('True Label')\n",
    "plt.title('Confusion Matrix')\n",
    "plt.show()"
   ],
   "id": "778db0ae591a1d5a",
   "outputs": [
    {
     "data": {
      "text/plain": [
       "<Figure size 400x300 with 2 Axes>"
      ],
      "image/png": "[encoded data removed]"
     },
     "metadata": {},
     "output_type": "display_data"
    }
   ],
   "execution_count": 1588
  },
  {
   "metadata": {},
   "cell_type": "markdown",
   "source": "#### Neural Network",
   "id": "3bcbafedd17119ee"
  },
  {
   "metadata": {
    "ExecuteTime": {
     "end_time": "2025-01-04T16:02:27.446317600Z",
     "start_time": "2025-01-04T15:51:28.293661Z"
    }
   },
   "cell_type": "code",
   "source": [
    "conf_matrix_NN = confusion_matrix(y_test_class, y_pred_class)\n",
    "\n",
    "plt.figure(figsize=(4, 3))\n",
    "sns.heatmap(conf_matrix_NN, annot=True, fmt='d', cmap='Blues', xticklabels=np.unique(y_test),\n",
    "            yticklabels=np.unique(y_test))\n",
    "plt.xlabel('Predicted Label')\n",
    "plt.ylabel('True Label')\n",
    "plt.title('Confusion Matrix')\n",
    "plt.show()"
   ],
   "id": "b1aedcdfad8d50e3",
   "outputs": [
    {
     "data": {
      "text/plain": [
       "<Figure size 400x300 with 2 Axes>"
      ],
      "image/png": "[encoded data removed]"
     },
     "metadata": {},
     "output_type": "display_data"
    }
   ],
   "execution_count": 1589
  }
 ],
 "metadata": {
  "kernelspec": {
   "display_name": "Python 3",
   "language": "python",
   "name": "python3"
  },
  "language_info": {
   "codemirror_mode": {
    "name": "ipython",
    "version": 2
   },
   "file_extension": ".py",
   "mimetype": "text/x-python",
   "name": "python",
   "nbconvert_exporter": "python",
   "pygments_lexer": "ipython2",
   "version": "2.7.6"
  }
 },
 "nbformat": 4,
 "nbformat_minor": 5
}
